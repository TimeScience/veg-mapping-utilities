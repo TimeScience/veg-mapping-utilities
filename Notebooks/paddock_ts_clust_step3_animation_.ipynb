{
 "cells": [
  {
   "cell_type": "markdown",
   "id": "28839fb2-ca4c-44ab-81de-7c51750ff2d3",
   "metadata": {},
   "source": [
    "# Plotting functions for time series analysis of paddock phenology\n",
    "\n",
    "I STOPPED WORKING ONON THIS NOEBOOK\n",
    "\n",
    "\n",
    "Each site and unique run of the segmentation has a unique \"stub\"\n",
    "\n",
    "For each stub, read in these data sets:\n",
    "    \n",
    "    1. ds: xarray datase containing Sentinel 2 data for the region and time frame used to generate paddocks polygon\n",
    "    \n",
    "    2. pol: a geopackage containing spatial polygons corresponding to paddocks after some filtering steps\n",
    "    \n",
    "    3. gdf: a pandas geodataframe containing, for every paddock, the weekly resampled NDVI time series used for clustering\n",
    "    \n",
    "    OR PVT?\n",
    "    \n",
    "    4. y_pred: a vector of length equal to number of paddocks containing cluster membership after time series clustering (work out what k was from number of unique values)\n",
    "    \n",
    "    5. The X_train object containing paddocks by days (essentially same data as gdf, but fits better into plotting function)\n",
    "    \n",
    "    MAYBE NOT NEEDED\n",
    "    \n",
    "    6. The 'average' central time series for each cluster"
   ]
  },
  {
   "cell_type": "code",
   "execution_count": null,
   "id": "606b6f89-1baa-4b09-82c5-c9a57eccb1e5",
   "metadata": {},
   "outputs": [],
   "source": [
    "#from dea_tools.temporal import xr_phenology, temporal_statistics\n",
    "#from dea_tools.datahandling import load_ard\n",
    "#from dea_tools.bandindices import calculate_indices\n",
    "from dea_tools.plotting import display_map, rgb, xr_animation\n",
    "#from dea_tools.dask import create_local_dask_cluster\n",
    "\n",
    "import skimage\n",
    "\n",
    "path_animations = '/home/jovyan/Projects/PaddockTS/Results/'\n",
    "\n",
    "# specify number of frames\n",
    "num_frames = 20\n",
    "num_frames = len(ds.time)\n",
    "\n",
    "k = 1\n",
    "gdf_ = pol[pol['y_pred'] == k] \n",
    "\n",
    "gdf_[\"color\"] = '#FF000000' # This is a HEX code that gives a transparent colour\n",
    "\n",
    "custom_funcs = [skimage.exposure.rescale_intensity,\n",
    "                skimage.exposure.equalize_adapthist]\n",
    "\n",
    "# Create animation with all the clusters\n",
    "xr_animation(ds, \n",
    "             bands=['nbart_red', 'nbart_green', 'nbart_blue'], \n",
    "             output_path = path_animations+'animation.mp4', \n",
    "             show_gdf = gdf_, \n",
    "             gdf_kwargs={\"edgecolor\": \"black\"}, \n",
    "             image_proc_funcs=custom_funcs,\n",
    "             limit=num_frames)"
   ]
  },
  {
   "cell_type": "code",
   "execution_count": 2,
   "id": "f219a458-5e5e-4fef-ab7f-2f6ab5a4a624",
   "metadata": {},
   "outputs": [
    {
     "ename": "NameError",
     "evalue": "name 'ds' is not defined",
     "output_type": "error",
     "traceback": [
      "\u001b[0;31m---------------------------------------------------------------------------\u001b[0m",
      "\u001b[0;31mNameError\u001b[0m                                 Traceback (most recent call last)",
      "Cell \u001b[0;32mIn[2], line 3\u001b[0m\n\u001b[1;32m      1\u001b[0m \u001b[38;5;66;03m##\u001b[39;00m\n\u001b[1;32m      2\u001b[0m \u001b[38;5;66;03m#\u001b[39;00m\n\u001b[0;32m----> 3\u001b[0m \u001b[43mds\u001b[49m\n",
      "\u001b[0;31mNameError\u001b[0m: name 'ds' is not defined"
     ]
    }
   ],
   "source": [
    "##\n",
    "#\n"
   ]
  },
  {
   "cell_type": "code",
   "execution_count": null,
   "id": "db18e0bd-df07-453a-9e74-c2de0f10baf7",
   "metadata": {
    "tags": []
   },
   "outputs": [],
   "source": []
  },
  {
   "cell_type": "code",
   "execution_count": null,
   "id": "ec393d00-f18c-4e1a-9d29-0dd66a59dc98",
   "metadata": {},
   "outputs": [],
   "source": []
  },
  {
   "cell_type": "code",
   "execution_count": null,
   "id": "379a10b6-e565-4785-b261-c3d22b7a391c",
   "metadata": {},
   "outputs": [],
   "source": []
  }
 ],
 "metadata": {
  "kernelspec": {
   "display_name": "Python 3 (ipykernel)",
   "language": "python",
   "name": "python3"
  },
  "language_info": {
   "codemirror_mode": {
    "name": "ipython",
    "version": 3
   },
   "file_extension": ".py",
   "mimetype": "text/x-python",
   "name": "python",
   "nbconvert_exporter": "python",
   "pygments_lexer": "ipython3",
   "version": "3.10.13"
  }
 },
 "nbformat": 4,
 "nbformat_minor": 5
}
