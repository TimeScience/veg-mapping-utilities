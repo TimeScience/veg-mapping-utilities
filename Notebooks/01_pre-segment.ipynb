{
 "cells": [
  {
   "cell_type": "markdown",
   "id": "d0da5695-c987-46c6-b7e5-576c8473fe78",
   "metadata": {},
   "source": [
    "# 01_pre-segment\n",
    "\n",
    "This script loads Sentinel data for a given location and time window using DEA sandbox. Load all bands and metadata neccesary for estimating indices\n",
    "\n",
    "All runs should be initited with a unique identifier 'stub' that carries through to the outputs\n",
    "\n",
    "Then:\n",
    "1. Calculates fourier transform 3-band image for input to segment anything\n",
    "2. Calculate band indices as additional variables in the xarray ds\n",
    "3. Saves the xarray ds with pickle to be reloaded later on. "
   ]
  },
  {
   "cell_type": "code",
   "execution_count": 1,
   "id": "49976448-965a-4726-b3d9-bd71c353cfbe",
   "metadata": {
    "tags": []
   },
   "outputs": [],
   "source": [
    "#import hdstats\n",
    "import joblib\n",
    "\n",
    "%matplotlib inline\n",
    "\n",
    "import os\n",
    "import datacube\n",
    "import numpy as np\n",
    "import pandas as pd\n",
    "import xarray as xr\n",
    "import rioxarray  # activate the rio accessor\n",
    "\n",
    "import datetime as dt\n",
    "import matplotlib.pyplot as plt\n",
    "\n",
    "import sys\n",
    "sys.path.insert(1, '../Tools/')\n",
    "from dea_tools.temporal import xr_phenology, temporal_statistics\n",
    "from dea_tools.datahandling import load_ard\n",
    "from dea_tools.bandindices import calculate_indices\n",
    "from dea_tools.plotting import display_map, rgb\n",
    "from dea_tools.dask import create_local_dask_cluster\n",
    "\n",
    "import hdstats\n",
    "\n",
    "import pickle"
   ]
  },
  {
   "cell_type": "code",
   "execution_count": 2,
   "id": "87cb18ae-9ffa-4975-a58b-bd8dffbf1b2a",
   "metadata": {
    "tags": []
   },
   "outputs": [
    {
     "name": "stderr",
     "output_type": "stream",
     "text": [
      "2024-05-03 11:51:53,407 - distributed.nanny.memory - WARNING - Ignoring provided memory limit 266707014144 due to system memory limit of 18.00 GiB\n"
     ]
    },
    {
     "data": {
      "text/html": [
       "<div>\n",
       "    <div style=\"width: 24px; height: 24px; background-color: #e1e1e1; border: 3px solid #9D9D9D; border-radius: 5px; position: absolute;\"> </div>\n",
       "    <div style=\"margin-left: 48px;\">\n",
       "        <h3 style=\"margin-bottom: 0px;\">Client</h3>\n",
       "        <p style=\"color: #9D9D9D; margin-bottom: 0px;\">Client-ad0b71fb-08ef-11ef-a54f-000007aafe80</p>\n",
       "        <table style=\"width: 100%; text-align: left;\">\n",
       "\n",
       "        <tr>\n",
       "        \n",
       "            <td style=\"text-align: left;\"><strong>Connection method:</strong> Cluster object</td>\n",
       "            <td style=\"text-align: left;\"><strong>Cluster type:</strong> distributed.LocalCluster</td>\n",
       "        \n",
       "        </tr>\n",
       "\n",
       "        \n",
       "            <tr>\n",
       "                <td style=\"text-align: left;\">\n",
       "                    <strong>Dashboard: </strong> <a href=\"/proxy/8787/status\" target=\"_blank\">/proxy/8787/status</a>\n",
       "                </td>\n",
       "                <td style=\"text-align: left;\"></td>\n",
       "            </tr>\n",
       "        \n",
       "\n",
       "        </table>\n",
       "\n",
       "        \n",
       "            <button style=\"margin-bottom: 12px;\" data-commandlinker-command=\"dask:populate-and-launch-layout\" data-commandlinker-args='{\"url\": \"/proxy/8787/status\" }'>\n",
       "                Launch dashboard in JupyterLab\n",
       "            </button>\n",
       "        \n",
       "\n",
       "        \n",
       "            <details>\n",
       "            <summary style=\"margin-bottom: 20px;\"><h3 style=\"display: inline;\">Cluster Info</h3></summary>\n",
       "            <div class=\"jp-RenderedHTMLCommon jp-RenderedHTML jp-mod-trusted jp-OutputArea-output\">\n",
       "    <div style=\"width: 24px; height: 24px; background-color: #e1e1e1; border: 3px solid #9D9D9D; border-radius: 5px; position: absolute;\">\n",
       "    </div>\n",
       "    <div style=\"margin-left: 48px;\">\n",
       "        <h3 style=\"margin-bottom: 0px; margin-top: 0px;\">LocalCluster</h3>\n",
       "        <p style=\"color: #9D9D9D; margin-bottom: 0px;\">3fabfe27</p>\n",
       "        <table style=\"width: 100%; text-align: left;\">\n",
       "            <tr>\n",
       "                <td style=\"text-align: left;\">\n",
       "                    <strong>Dashboard:</strong> <a href=\"/proxy/8787/status\" target=\"_blank\">/proxy/8787/status</a>\n",
       "                </td>\n",
       "                <td style=\"text-align: left;\">\n",
       "                    <strong>Workers:</strong> 1\n",
       "                </td>\n",
       "            </tr>\n",
       "            <tr>\n",
       "                <td style=\"text-align: left;\">\n",
       "                    <strong>Total threads:</strong> 4\n",
       "                </td>\n",
       "                <td style=\"text-align: left;\">\n",
       "                    <strong>Total memory:</strong> 18.00 GiB\n",
       "                </td>\n",
       "            </tr>\n",
       "            \n",
       "            <tr>\n",
       "    <td style=\"text-align: left;\"><strong>Status:</strong> running</td>\n",
       "    <td style=\"text-align: left;\"><strong>Using processes:</strong> True</td>\n",
       "</tr>\n",
       "\n",
       "            \n",
       "        </table>\n",
       "\n",
       "        <details>\n",
       "            <summary style=\"margin-bottom: 20px;\">\n",
       "                <h3 style=\"display: inline;\">Scheduler Info</h3>\n",
       "            </summary>\n",
       "\n",
       "            <div style=\"\">\n",
       "    <div>\n",
       "        <div style=\"width: 24px; height: 24px; background-color: #FFF7E5; border: 3px solid #FF6132; border-radius: 5px; position: absolute;\"> </div>\n",
       "        <div style=\"margin-left: 48px;\">\n",
       "            <h3 style=\"margin-bottom: 0px;\">Scheduler</h3>\n",
       "            <p style=\"color: #9D9D9D; margin-bottom: 0px;\">Scheduler-13214be1-6c38-4d47-87bb-378dc7e9632a</p>\n",
       "            <table style=\"width: 100%; text-align: left;\">\n",
       "                <tr>\n",
       "                    <td style=\"text-align: left;\">\n",
       "                        <strong>Comm:</strong> tcp://127.0.0.1:33547\n",
       "                    </td>\n",
       "                    <td style=\"text-align: left;\">\n",
       "                        <strong>Workers:</strong> 1\n",
       "                    </td>\n",
       "                </tr>\n",
       "                <tr>\n",
       "                    <td style=\"text-align: left;\">\n",
       "                        <strong>Dashboard:</strong> <a href=\"/proxy/8787/status\" target=\"_blank\">/proxy/8787/status</a>\n",
       "                    </td>\n",
       "                    <td style=\"text-align: left;\">\n",
       "                        <strong>Total threads:</strong> 4\n",
       "                    </td>\n",
       "                </tr>\n",
       "                <tr>\n",
       "                    <td style=\"text-align: left;\">\n",
       "                        <strong>Started:</strong> Just now\n",
       "                    </td>\n",
       "                    <td style=\"text-align: left;\">\n",
       "                        <strong>Total memory:</strong> 18.00 GiB\n",
       "                    </td>\n",
       "                </tr>\n",
       "            </table>\n",
       "        </div>\n",
       "    </div>\n",
       "\n",
       "    <details style=\"margin-left: 48px;\">\n",
       "        <summary style=\"margin-bottom: 20px;\">\n",
       "            <h3 style=\"display: inline;\">Workers</h3>\n",
       "        </summary>\n",
       "\n",
       "        \n",
       "        <div style=\"margin-bottom: 20px;\">\n",
       "            <div style=\"width: 24px; height: 24px; background-color: #DBF5FF; border: 3px solid #4CC9FF; border-radius: 5px; position: absolute;\"> </div>\n",
       "            <div style=\"margin-left: 48px;\">\n",
       "            <details>\n",
       "                <summary>\n",
       "                    <h4 style=\"margin-bottom: 0px; display: inline;\">Worker: 0</h4>\n",
       "                </summary>\n",
       "                <table style=\"width: 100%; text-align: left;\">\n",
       "                    <tr>\n",
       "                        <td style=\"text-align: left;\">\n",
       "                            <strong>Comm: </strong> tcp://127.0.0.1:33721\n",
       "                        </td>\n",
       "                        <td style=\"text-align: left;\">\n",
       "                            <strong>Total threads: </strong> 4\n",
       "                        </td>\n",
       "                    </tr>\n",
       "                    <tr>\n",
       "                        <td style=\"text-align: left;\">\n",
       "                            <strong>Dashboard: </strong> <a href=\"/proxy/43809/status\" target=\"_blank\">/proxy/43809/status</a>\n",
       "                        </td>\n",
       "                        <td style=\"text-align: left;\">\n",
       "                            <strong>Memory: </strong> 18.00 GiB\n",
       "                        </td>\n",
       "                    </tr>\n",
       "                    <tr>\n",
       "                        <td style=\"text-align: left;\">\n",
       "                            <strong>Nanny: </strong> tcp://127.0.0.1:41011\n",
       "                        </td>\n",
       "                        <td style=\"text-align: left;\"></td>\n",
       "                    </tr>\n",
       "                    <tr>\n",
       "                        <td colspan=\"2\" style=\"text-align: left;\">\n",
       "                            <strong>Local directory: </strong> /jobfs/114917309.gadi-pbs/dask-scratch-space/worker-yhgsfn7p\n",
       "                        </td>\n",
       "                    </tr>\n",
       "\n",
       "                    \n",
       "\n",
       "                    \n",
       "\n",
       "                </table>\n",
       "            </details>\n",
       "            </div>\n",
       "        </div>\n",
       "        \n",
       "\n",
       "    </details>\n",
       "</div>\n",
       "\n",
       "        </details>\n",
       "    </div>\n",
       "</div>\n",
       "            </details>\n",
       "        \n",
       "\n",
       "    </div>\n",
       "</div>"
      ],
      "text/plain": [
       "<Client: 'tcp://127.0.0.1:33547' processes=1 threads=4, memory=18.00 GiB>"
      ]
     },
     "metadata": {},
     "output_type": "display_data"
    }
   ],
   "source": [
    "import warnings\n",
    "warnings.simplefilter(action='ignore', category=FutureWarning)\n",
    "\n",
    "# Create local dask cluster to improve data load time\n",
    "client = create_local_dask_cluster(return_client=True)\n"
   ]
  },
  {
   "cell_type": "code",
   "execution_count": 3,
   "id": "858f36e3-32ed-48a2-ba4b-0184dbea51d5",
   "metadata": {
    "tags": []
   },
   "outputs": [],
   "source": [
    "## Connect to datacube\n",
    "dc = datacube.Datacube(app='Vegetation_phenology')"
   ]
  },
  {
   "cell_type": "code",
   "execution_count": 4,
   "id": "01ae0feb-6666-4e37-a594-fad3343ff5f8",
   "metadata": {
    "tags": []
   },
   "outputs": [],
   "source": [
    "\n",
    "#os.chdir('/home/106/jb5097/Projects/PaddockTS')\n",
    "\n",
    "# set output vars\n",
    "#stub = 'GRANT'\n",
    "stub = 'fm_ndwi_5'\n",
    "#out_path = 'Data/'\n",
    "outdir = \"/g/data/xe2/John/Data/PadSeg/\" # best if output is stored in gdata\n",
    "\n"
   ]
  },
  {
   "cell_type": "code",
   "execution_count": 5,
   "id": "ac8bab61-dc8c-47e5-be9a-bdb9736367cf",
   "metadata": {
    "tags": []
   },
   "outputs": [
    {
     "data": {
      "text/html": [
       "<div style=\"width:100%;\"><div style=\"position:relative;width:100%;height:0;padding-bottom:60%;\"><span style=\"color:#565656\">Make this Notebook Trusted to load map: File -> Trust Notebook</span><iframe srcdoc=\"&lt;!DOCTYPE html&gt;\n",
       "&lt;html&gt;\n",
       "&lt;head&gt;\n",
       "    \n",
       "    &lt;meta http-equiv=&quot;content-type&quot; content=&quot;text/html; charset=UTF-8&quot; /&gt;\n",
       "    \n",
       "        &lt;script&gt;\n",
       "            L_NO_TOUCH = false;\n",
       "            L_DISABLE_3D = false;\n",
       "        &lt;/script&gt;\n",
       "    \n",
       "    &lt;style&gt;html, body {width: 100%;height: 100%;margin: 0;padding: 0;}&lt;/style&gt;\n",
       "    &lt;style&gt;#map {position:absolute;top:0;bottom:0;right:0;left:0;}&lt;/style&gt;\n",
       "    &lt;script src=&quot;https://cdn.jsdelivr.net/npm/leaflet@1.9.3/dist/leaflet.js&quot;&gt;&lt;/script&gt;\n",
       "    &lt;script src=&quot;https://code.jquery.com/jquery-3.7.1.min.js&quot;&gt;&lt;/script&gt;\n",
       "    &lt;script src=&quot;https://cdn.jsdelivr.net/npm/bootstrap@5.2.2/dist/js/bootstrap.bundle.min.js&quot;&gt;&lt;/script&gt;\n",
       "    &lt;script src=&quot;https://cdnjs.cloudflare.com/ajax/libs/Leaflet.awesome-markers/2.0.2/leaflet.awesome-markers.js&quot;&gt;&lt;/script&gt;\n",
       "    &lt;link rel=&quot;stylesheet&quot; href=&quot;https://cdn.jsdelivr.net/npm/leaflet@1.9.3/dist/leaflet.css&quot;/&gt;\n",
       "    &lt;link rel=&quot;stylesheet&quot; href=&quot;https://cdn.jsdelivr.net/npm/bootstrap@5.2.2/dist/css/bootstrap.min.css&quot;/&gt;\n",
       "    &lt;link rel=&quot;stylesheet&quot; href=&quot;https://netdna.bootstrapcdn.com/bootstrap/3.0.0/css/bootstrap.min.css&quot;/&gt;\n",
       "    &lt;link rel=&quot;stylesheet&quot; href=&quot;https://cdn.jsdelivr.net/npm/@fortawesome/fontawesome-free@6.2.0/css/all.min.css&quot;/&gt;\n",
       "    &lt;link rel=&quot;stylesheet&quot; href=&quot;https://cdnjs.cloudflare.com/ajax/libs/Leaflet.awesome-markers/2.0.2/leaflet.awesome-markers.css&quot;/&gt;\n",
       "    &lt;link rel=&quot;stylesheet&quot; href=&quot;https://cdn.jsdelivr.net/gh/python-visualization/folium/folium/templates/leaflet.awesome.rotate.min.css&quot;/&gt;\n",
       "    \n",
       "            &lt;meta name=&quot;viewport&quot; content=&quot;width=device-width,\n",
       "                initial-scale=1.0, maximum-scale=1.0, user-scalable=no&quot; /&gt;\n",
       "            &lt;style&gt;\n",
       "                #map_8601a597800937d60618ba75893edb53 {\n",
       "                    position: relative;\n",
       "                    width: 100.0%;\n",
       "                    height: 100.0%;\n",
       "                    left: 0.0%;\n",
       "                    top: 0.0%;\n",
       "                }\n",
       "                .leaflet-container { font-size: 1rem; }\n",
       "            &lt;/style&gt;\n",
       "        \n",
       "&lt;/head&gt;\n",
       "&lt;body&gt;\n",
       "    \n",
       "    \n",
       "            &lt;div class=&quot;folium-map&quot; id=&quot;map_8601a597800937d60618ba75893edb53&quot; &gt;&lt;/div&gt;\n",
       "        \n",
       "&lt;/body&gt;\n",
       "&lt;script&gt;\n",
       "    \n",
       "    \n",
       "            var map_8601a597800937d60618ba75893edb53 = L.map(\n",
       "                &quot;map_8601a597800937d60618ba75893edb53&quot;,\n",
       "                {\n",
       "                    center: [-34.38904277303204, 148.46949938279096],\n",
       "                    crs: L.CRS.EPSG3857,\n",
       "                    zoom: 14,\n",
       "                    zoomControl: true,\n",
       "                    preferCanvas: false,\n",
       "                }\n",
       "            );\n",
       "\n",
       "            \n",
       "\n",
       "        \n",
       "    \n",
       "            var tile_layer_de317d92452a9a3799b375a65b6a109b = L.tileLayer(\n",
       "                &quot;http://mt1.google.com/vt/lyrs=y\\u0026z={z}\\u0026x={x}\\u0026y={y}&quot;,\n",
       "                {&quot;attribution&quot;: &quot;Google&quot;, &quot;detectRetina&quot;: false, &quot;maxNativeZoom&quot;: 18, &quot;maxZoom&quot;: 18, &quot;minZoom&quot;: 0, &quot;noWrap&quot;: false, &quot;opacity&quot;: 1, &quot;subdomains&quot;: &quot;abc&quot;, &quot;tms&quot;: false}\n",
       "            );\n",
       "        \n",
       "    \n",
       "                tile_layer_de317d92452a9a3799b375a65b6a109b.addTo(map_8601a597800937d60618ba75893edb53);\n",
       "    \n",
       "            var poly_line_e6314a70ba6dadbd698c6245005db9b1 = L.polyline(\n",
       "                [[-34.40904277303204, 148.44949938279095], [-34.40904277303204, 148.48949938279097], [-34.369042773032035, 148.48949938279097], [-34.369042773032035, 148.44949938279095], [-34.40904277303204, 148.44949938279095]],\n",
       "                {&quot;bubblingMouseEvents&quot;: true, &quot;color&quot;: &quot;red&quot;, &quot;dashArray&quot;: null, &quot;dashOffset&quot;: null, &quot;fill&quot;: false, &quot;fillColor&quot;: &quot;red&quot;, &quot;fillOpacity&quot;: 0.2, &quot;fillRule&quot;: &quot;evenodd&quot;, &quot;lineCap&quot;: &quot;round&quot;, &quot;lineJoin&quot;: &quot;round&quot;, &quot;noClip&quot;: false, &quot;opacity&quot;: 0.8, &quot;smoothFactor&quot;: 1.0, &quot;stroke&quot;: true, &quot;weight&quot;: 3}\n",
       "            ).addTo(map_8601a597800937d60618ba75893edb53);\n",
       "        \n",
       "    \n",
       "                var lat_lng_popup_6b998945cab572b6d28750bae88441ae = L.popup();\n",
       "                function latLngPop(e) {\n",
       "                    lat_lng_popup_6b998945cab572b6d28750bae88441ae\n",
       "                        .setLatLng(e.latlng)\n",
       "                        .setContent(&quot;Latitude: &quot; + e.latlng.lat.toFixed(4) +\n",
       "                                    &quot;&lt;br&gt;Longitude: &quot; + e.latlng.lng.toFixed(4))\n",
       "                        .openOn(map_8601a597800937d60618ba75893edb53);\n",
       "                    }\n",
       "                map_8601a597800937d60618ba75893edb53.on(&#x27;click&#x27;, latLngPop);\n",
       "            \n",
       "&lt;/script&gt;\n",
       "&lt;/html&gt;\" style=\"position:absolute;width:100%;height:100%;left:0;top:0;border:none !important;\" allowfullscreen webkitallowfullscreen mozallowfullscreen></iframe></div></div>"
      ],
      "text/plain": [
       "<folium.folium.Map at 0x14d6692be170>"
      ]
     },
     "execution_count": 5,
     "metadata": {},
     "output_type": "execute_result"
    }
   ],
   "source": [
    "# Define area of interest\n",
    "\n",
    "# # 186 Milgadara Rd, Barwang NSW: -34.38904277303204, 148.46949938279096\n",
    "# Yelkin -33.47904684379098, 146.3094839864518\n",
    "# Boomahnoomoona -36.11965805095775, 146.08472404116773\n",
    "# Adam O'tool site: -33.5040228817206, 148.6385170105664\n",
    "# Grant Sims multispecies cover crop experiment sites -36.22746736927963, 144.40088864017818\n",
    "lat = -34.38904277303204\n",
    "lon = 148.46949938279096\n",
    "lon_buffer = 0.02\n",
    "lat_buffer = 0.02\n",
    "\n",
    "# Set the range of dates for the analysis\n",
    "time_range = ('2019-01-01', '2022-01-01') # when is the earliest? 2016?\n",
    "\n",
    "# Combine central lat,lon with buffer to get area of interest\n",
    "lat_range = (lat-lat_buffer, lat+lat_buffer)\n",
    "lon_range = (lon-lon_buffer, lon+lon_buffer)\n",
    "\n",
    "display_map(x=lon_range, y=lat_range)\n"
   ]
  },
  {
   "cell_type": "code",
   "execution_count": null,
   "id": "656db336-13b4-451f-9069-7dd1baa73f36",
   "metadata": {
    "jupyter": {
     "source_hidden": true
    },
    "tags": []
   },
   "outputs": [],
   "source": [
    "\n",
    "# MAKE SAME AS MILGADARA REGION\n",
    "# TEST\n",
    "query = {\n",
    "    'y': lat_range,\n",
    "    'x': lon_range,\n",
    "    'time': time_range,\n",
    "    'resolution': (-20, 20),\n",
    "    'output_crs': 'epsg:6933',\n",
    "    'group_by':'solar_day'\n",
    "}\n",
    "\n",
    "# Load available data from Sentinel-2\n",
    "ds = load_ard(\n",
    "    dc=dc,\n",
    "    products=['ga_s2am_ard_3', 'ga_s2bm_ard_3'],\n",
    "    cloud_mask='s2cloudless',\n",
    "    min_gooddata=0.9,\n",
    "    **query,\n",
    ")\n",
    "\n",
    "ds"
   ]
  },
  {
   "cell_type": "code",
   "execution_count": 9,
   "id": "560a8fc3-029c-4165-bd83-055a99310255",
   "metadata": {
    "tags": []
   },
   "outputs": [],
   "source": [
    "# Create a reusable query\n",
    "query = {\n",
    "    'y': lat_range,\n",
    "    'x': lon_range,\n",
    "    'time': time_range,\n",
    "    #'measurements': ['nbart_red', 'nbart_green', 'nbart_blue', 'nbart_nir_1'],\n",
    "    #'measurements': ['nbart_band02', 'nbart_band03', 'nbart_band04', 'nbart_band05'],\n",
    "    #'measurements': ['nbart_band02', 'nbart_band03', 'nbart_band04', 'nbart_band05','nbart_band06', 'nbart_band07', 'nbart_band08', 'nbart_band8a','nbart_band11','nbart_band12'], \n",
    "    \n",
    "    # 'measurements': ['nbart_blue', 'nbart_green', 'nbart_red', 'nbart_red_edge_1','nbart_red_edge_2', 'nbart_red_edge_3', 'nbart_nir_1', 'nbart_nir_2','nbart_swir_2','nbart_swir_3',\n",
    "    #                 'incident_angle'],\n",
    "    'resolution': (-10, 10),\n",
    "    'output_crs': 'epsg:6933',\n",
    "    'group_by':'solar_day'\n",
    "}"
   ]
  },
  {
   "cell_type": "code",
   "execution_count": null,
   "id": "4af77bf4-ae07-4d39-9170-fd3bfa9248a7",
   "metadata": {
    "tags": []
   },
   "outputs": [],
   "source": [
    "\n",
    "# Load available data from Sentinel-2\n",
    "ds = load_ard(\n",
    "    dc=dc,\n",
    "    products=['ga_s2am_ard_3', 'ga_s2bm_ard_3'],\n",
    "    cloud_mask='s2cloudless',\n",
    "    min_gooddata=0.9,\n",
    "    **query,\n",
    ")\n",
    "\n",
    "# Shut down Dask client now that we have loaded the data we need\n",
    "client.close()\n",
    "\n",
    "# Preview data\n",
    "ds\n",
    "\n",
    "# guide to Sentinel2 bands:\n",
    "# https://sentinels.copernicus.eu/web/sentinel/user-guides/sentinel-2-msi/resolutions/spatial"
   ]
  },
  {
   "cell_type": "code",
   "execution_count": null,
   "id": "aaacda87-f10d-488f-b801-9bb0687a0561",
   "metadata": {
    "tags": []
   },
   "outputs": [],
   "source": [
    "# # check out different measurement names:\n",
    "# dc.list_products().to_csv(\"dc.list_products.tsv\", sep = \"\\t\")\n",
    "# dc.list_measurements().to_csv(\"dc.list_measurements.tsv\", sep = \"\\t\")"
   ]
  },
  {
   "cell_type": "markdown",
   "id": "40fc182a-0d31-4c59-bf80-2cfb4d8ce4a3",
   "metadata": {
    "tags": []
   },
   "source": [
    "### Create band indices and save the xarray object"
   ]
  },
  {
   "cell_type": "code",
   "execution_count": null,
   "id": "88dcc9f7-e423-4df7-bf25-8d8c0412cd62",
   "metadata": {
    "tags": []
   },
   "outputs": [],
   "source": [
    "# Also add: dNDVI, NDYI, CAI, faPAR (if possible)\n",
    "\n",
    "def NDYI(green,blue):\n",
    "    '''Normalized Difference Yellowness Index (NDYI) formula'\n",
    "    Para E. S. https://custom-scripts.sentinel-hub.com/sentinel-2/ndyi/\n",
    "    See link for idea on how to mask pixels with high NDYI'''\n",
    "    \n",
    "    return((green-blue)/(green+blue))\n",
    "\n",
    "# The only FAPAR equation I've found for Sentinel 2 data was developed as a neural network model (https://step.esa.int/docs/extra/ATBD_S2ToolBox_L2B_V1.1.pdf)\n",
    "# This function will not be easy to implement with our data as currently formatted (https://custom-scripts.sentinel-hub.com/custom-scripts/sentinel-2/fapar/)\n"
   ]
  },
  {
   "cell_type": "code",
   "execution_count": null,
   "id": "dfa5fcfe-fa3b-4daf-a002-3ab2f03c4374",
   "metadata": {
    "tags": []
   },
   "outputs": [],
   "source": [
    "ds_ind = calculate_indices(ds, \n",
    "                           index=['NDVI', # Normalised Difference Vegation Index, Rouse 1973\n",
    "                                  'kNDVI', # Non-linear Normalised Difference Vegation Index,\n",
    "                                  'EVI', # Enhanced Vegetation Index, Huete 2002\n",
    "                                  'LAI', # Leaf Area Index, Boegh 2002\n",
    "                                  'SAVI', # Soil Adjusted Vegetation Index, Huete 1988\n",
    "                                  'MSAVI', # Mod. Soil Adjusted Vegetation Index, Qi et al. 1994\n",
    "                                  'NDMI', # Normalised Difference Moisture Index, Gao 1996\n",
    "                                  'NDWI', # Normalised Difference Water Index, McFeeters 1996\n",
    "                                  'MNDWI', # Modified Normalised Difference Water Index, Xu 2006 (USES SWIR1)\n",
    "                                  'NBR', # Normalised Burn Ratio, Lopez Garcia 1991\n",
    "                                  'NDCI', # Norm dif chlorophyll index\n",
    "                                  'NDTI', # Normalised Difference Tillage Index,\n",
    "                                  'BSI' # Bare soil\n",
    "                                  ], \n",
    "                           collection='ga_s2_3')  # https://knowledge.dea.ga.gov.au/notebooks/How_to_guides/Calculating_band_indices/\n",
    "\n",
    "ds_ind['NDYI'] = NDYI(ds_ind['nbart_green'], ds_ind['nbart_blue'])\n",
    "\n",
    "ds_ind"
   ]
  },
  {
   "cell_type": "code",
   "execution_count": 4,
   "id": "2cc2f7a0-d585-4c51-bd96-d92e2733bff1",
   "metadata": {
    "tags": []
   },
   "outputs": [
    {
     "name": "stdout",
     "output_type": "stream",
     "text": [
      "Object `calculate_indices()` not found.\n"
     ]
    }
   ],
   "source": [
    "## Get the info about how each index calculated... \n",
    "?calculate_indices()"
   ]
  },
  {
   "cell_type": "code",
   "execution_count": null,
   "id": "ef09d6af-7fd0-4ead-a597-60eecc53a580",
   "metadata": {},
   "outputs": [],
   "source": []
  },
  {
   "cell_type": "code",
   "execution_count": null,
   "id": "773dfd66-5d47-4905-b869-f1c2bcd95366",
   "metadata": {},
   "outputs": [],
   "source": []
  },
  {
   "cell_type": "code",
   "execution_count": null,
   "id": "6397605c-3d14-4f16-9dea-ce9f51bd8436",
   "metadata": {
    "tags": []
   },
   "outputs": [],
   "source": [
    "\n",
    "# pickle dump (2 refers to this being the 'full' dataset, rather than just the bands used for vis)\n",
    "\n",
    "with open(outdir+stub+'_ds2.pickle', 'wb') as handle:\n",
    "    pickle.dump(ds_ind, handle, protocol=pickle.HIGHEST_PROTOCOL)\n"
   ]
  },
  {
   "cell_type": "code",
   "execution_count": null,
   "id": "5ec8d46a-8744-4d7d-9db8-6371683f6a59",
   "metadata": {
    "tags": []
   },
   "outputs": [],
   "source": [
    "## Test openning pickle.. \n",
    "with open(outdir+stub+'_ds2.pickle', 'rb') as handle:\n",
    "    ds_ind = pickle.load(handle)\n"
   ]
  },
  {
   "cell_type": "code",
   "execution_count": null,
   "id": "e1027cdf-5169-4446-868f-b0346e0eaf47",
   "metadata": {
    "tags": []
   },
   "outputs": [],
   "source": [
    "ds_ind\n",
    "ds = ds_ind\n",
    "ds"
   ]
  },
  {
   "cell_type": "markdown",
   "id": "33fed652-0048-4f0e-84ad-a6c4adbb9bd3",
   "metadata": {},
   "source": [
    "### Trying again to emulate past method using hdstats\n"
   ]
  },
  {
   "cell_type": "code",
   "execution_count": null,
   "id": "c1963355-f016-47bd-9205-24319baa3502",
   "metadata": {
    "tags": []
   },
   "outputs": [],
   "source": [
    "# Get a RGBN as numpy array\n",
    "keep_vars = ['nbart_red','nbart_green','nbart_blue','nbart_nir_1']\n",
    "\n",
    "# interpolated version. select vars, convert zeros to nans, interpolate nans, make np array, then transpose\n",
    "#ds = ds[keep_vars]"
   ]
  },
  {
   "cell_type": "code",
   "execution_count": null,
   "id": "6938559a-c909-4d97-bc51-7841c0132cf1",
   "metadata": {
    "tags": []
   },
   "outputs": [],
   "source": [
    "data = ds[keep_vars].to_array().transpose('y', 'x','variable', 'time').values.astype(np.float32)\n",
    "data[data == 0] = np.nan\n",
    "data /= 10000.\n",
    "\n",
    "dayofyear = np.array(ds.time.dt.dayofyear)\n",
    "ts = dayofyear/365.\n",
    "\n",
    "print(data.shape)"
   ]
  },
  {
   "cell_type": "code",
   "execution_count": null,
   "id": "70b28590-be17-40e4-8967-3e2c19d9c4fb",
   "metadata": {
    "tags": []
   },
   "outputs": [],
   "source": [
    "ndwi_obs = (data[:,:,1,:]-data[:,:,3,:])/(data[:,:,1,:]+data[:,:,3,:]) # w = water. (g-nir)/(g+nir)\n",
    "print('number of missing pixels to be dealt with:', np.count_nonzero(np.isnan(ndwi_obs)))\n"
   ]
  },
  {
   "cell_type": "code",
   "execution_count": null,
   "id": "f1868901-2ee7-4f02-9ebc-f336af9e9cc7",
   "metadata": {
    "tags": []
   },
   "outputs": [],
   "source": [
    "ndwi = hdstats.completion(ndwi_obs)"
   ]
  },
  {
   "cell_type": "code",
   "execution_count": null,
   "id": "19344067-e007-4f0f-88ca-3aa066b574f8",
   "metadata": {
    "tags": []
   },
   "outputs": [],
   "source": [
    "yloc, xloc = data.shape[0]//4, data.shape[1]//4\n",
    "\n",
    "# specify a time vector\n",
    "ts = dayofyear/365. # ts x-axis as day of year\n",
    "# OR\n",
    "ts = np.array(range(1,data.shape[3]+1)) # ts x-axis as sequential obs days.  \n",
    "\n",
    "plt.plot(ts, ndwi[yloc,xloc,:], 'ro', alpha=0.5, label='Completed')\n",
    "plt.plot(ts, ndwi_obs[yloc,xloc,:], 'ko', label='Observations')\n",
    "plt.xlabel('Fraction of year')\n",
    "plt.ylabel('NDWI')\n",
    "plt.legend();"
   ]
  },
  {
   "cell_type": "code",
   "execution_count": null,
   "id": "d86af799-e04c-4796-b505-7bd97189dcba",
   "metadata": {
    "tags": []
   },
   "outputs": [],
   "source": [
    "def imshow(data, fs=6, pc=2):\n",
    "    img = data.copy()\n",
    "    plt.figure(figsize=(fs,fs*(img.shape[0]/img.shape[1])))\n",
    "\n",
    "    if len(img.shape) == 3:\n",
    "        for i in range(min(3, img.shape[2])):\n",
    "            dd=img[:,:,i]\n",
    "            pl, pu = np.percentile(dd[np.isfinite(dd)], (pc,100-pc))\n",
    "            dd[dd<pl], dd[dd>pu] = pl, pu\n",
    "            dd -= pl\n",
    "            dd /= (pu - pl)\n",
    "        plt.imshow(img, aspect='auto')\n",
    "    else:\n",
    "        pl, pu = np.percentile(img[np.isfinite(img)], (pc,100-pc))\n",
    "        plt.imshow(img, aspect='auto', vmin=pl, vmax=pu)\n",
    "    plt.tick_params(axis='both', which='both', bottom=False, top=False, labelbottom=False, right=False, left=False, labelleft=False)\n",
    "    plt.tight_layout()"
   ]
  },
  {
   "cell_type": "code",
   "execution_count": null,
   "id": "74248f37-a999-4e07-9b32-15b2d24f9ff8",
   "metadata": {
    "tags": []
   },
   "outputs": [],
   "source": [
    "f2 = hdstats.fourier_mean(ndwi)\n",
    "imshow(f2)\n",
    "print(f2.shape)\n",
    "\n",
    "# this is the one"
   ]
  },
  {
   "cell_type": "code",
   "execution_count": null,
   "id": "e743ad68-3f8a-4804-8e3d-9cc07436dcf1",
   "metadata": {
    "tags": []
   },
   "outputs": [],
   "source": [
    "# rescale each band of a numpy array so that it's between 0 and 255\n",
    "\n",
    "def rescale(im):\n",
    "    \n",
    "    '''rescale raster (im) to between 0 and 255.\n",
    "    Attempts to rescale each band separately, then join them back together to achieve exact same shape as input.\n",
    "    Note. Assumes multiple bands, otherwise breaks'''\n",
    "    \n",
    "    n_bands = im.shape[2]\n",
    "    #print(n_bands)\n",
    "\n",
    "    #print(im.shape)\n",
    "\n",
    "    _im = np.empty(im.shape)\n",
    "\n",
    "    #print(_im)\n",
    "    for n in range(0,n_bands):\n",
    "\n",
    "        #print(n)\n",
    "\n",
    "        matrix = im[:,:,n]\n",
    "        scaled_matrix = (255*(matrix - np.min(matrix))/np.ptp(matrix)).astype(int)\n",
    "\n",
    "        #_im = np.append(_im, scaled_matrix, axis = 0)\n",
    "        _im[:,:,n] = scaled_matrix\n",
    "\n",
    "    print('output shape equals input:', im.shape == im.shape)\n",
    "\n",
    "    imshow(_im)\n",
    "    \n",
    "    return(_im)\n",
    "\n",
    "#t = rescale(drimg[:,:,:3])"
   ]
  },
  {
   "cell_type": "code",
   "execution_count": null,
   "id": "283e67d8-72d8-451e-a61d-3c28b1723c14",
   "metadata": {
    "tags": []
   },
   "outputs": [],
   "source": [
    "def export_for_segmentation(ds, inp, out_stub):\n",
    "    \n",
    "    '''prepares a 3-band image for SAMgeo. \n",
    "    First rescale bands in the image. Then convert to xarray with original geo info. Then save geotif'''\n",
    "    \n",
    "    if inp.shape[2] == 3:\n",
    "    \n",
    "        image = rescale(inp) # 3d array \n",
    "        lat = list(ds.y.values) # latitude is the same size as the first axis\n",
    "        lon = list(ds.x.values) # longitude is the same size as second axis\n",
    "        bands = list(range(1,image.shape[2]+1)) # band is the 3rd axis\n",
    "        crs = ds.rio.crs\n",
    "                \n",
    "        # create xarray object\n",
    "        data_xr = xr.DataArray(image, \n",
    "                       coords={'y': lat,'x': lon,'band': bands}, \n",
    "                       dims=[\"y\", \"x\", \"band\"])\n",
    "\n",
    "        data_xr.rio.write_crs(crs, inplace=True)\n",
    "        \n",
    "        # save as geotif:\n",
    "        data_xr.transpose('band', 'y', 'x').rio.to_raster(out_stub + '.tif')\n",
    "\n",
    "    else:\n",
    "        print(\"Input image is wrong shape! No action taken\")\n",
    "        \n",
    "    #return(image, data_xr)"
   ]
  },
  {
   "cell_type": "code",
   "execution_count": null,
   "id": "145d8f04-4c8e-4f97-85ad-5ef4457cb9e8",
   "metadata": {
    "tags": []
   },
   "outputs": [],
   "source": [
    "### Set the stub name and export the ds for later analysis as well as an RGB for segmentation with SAMGeo\n",
    "export_for_segmentation(ds, f2, outdir+stub)"
   ]
  },
  {
   "cell_type": "code",
   "execution_count": 15,
   "id": "b2518be1-5110-43a5-a018-fbb6a9444c51",
   "metadata": {
    "tags": []
   },
   "outputs": [],
   "source": [
    "### Save the input params for record keeping and possible future use\n",
    "\n",
    "# Saving the objects:\n",
    "with open(outdir+stub+'_ds2_query.pkl', 'wb') as f:\n",
    "    pickle.dump(query, f)\n",
    "\n",
    "# Getting back the objects:\n",
    "with open(outdir+stub+'_ds2_query.pkl', 'rb') as f:\n",
    "    query = pickle.load(f)"
   ]
  },
  {
   "cell_type": "code",
   "execution_count": 16,
   "id": "d2c7e488-1e9a-4d3c-9746-c69dac48b576",
   "metadata": {},
   "outputs": [
    {
     "data": {
      "text/plain": [
       "{'y': (-34.40904277303204, -34.369042773032035),\n",
       " 'x': (148.44949938279095, 148.48949938279097),\n",
       " 'time': ('2019-01-01', '2022-01-01'),\n",
       " 'resolution': (-10, 10),\n",
       " 'output_crs': 'epsg:6933',\n",
       " 'group_by': 'solar_day'}"
      ]
     },
     "execution_count": 16,
     "metadata": {},
     "output_type": "execute_result"
    }
   ],
   "source": [
    "query\n"
   ]
  },
  {
   "cell_type": "code",
   "execution_count": null,
   "id": "fbb06dc6-88ea-4402-8702-2e05f0ee2161",
   "metadata": {},
   "outputs": [],
   "source": []
  },
  {
   "cell_type": "code",
   "execution_count": null,
   "id": "9d0c0271-d91a-4de1-b1a4-d43e19d617c0",
   "metadata": {},
   "outputs": [],
   "source": []
  },
  {
   "cell_type": "code",
   "execution_count": null,
   "id": "f7d7589a-1a12-4253-9276-8188bc2a93a7",
   "metadata": {},
   "outputs": [],
   "source": []
  },
  {
   "cell_type": "code",
   "execution_count": null,
   "id": "58e7d899-646f-4f61-aab8-e7c43fe70509",
   "metadata": {},
   "outputs": [],
   "source": []
  },
  {
   "cell_type": "markdown",
   "id": "df1b33d6-871f-408a-8ec4-1c39d5ce17e1",
   "metadata": {},
   "source": [
    "### Next step. (AFTER RUNNING SAMGEO) Time series summary and extraction at paddock level\n",
    "1. Load polygons generated by segment anything \n",
    "2. extract spectral time series summaries for each polyon\n",
    "3. Save crucial files for next  script\n",
    "\n"
   ]
  },
  {
   "cell_type": "code",
   "execution_count": null,
   "id": "1904ed88-cc78-42f1-90a4-43321ff1d527",
   "metadata": {
    "tags": []
   },
   "outputs": [],
   "source": [
    "import geopandas as gpd\n",
    "import pandas as pd\n",
    "import numpy as np\n",
    "\n",
    "out_path"
   ]
  },
  {
   "cell_type": "code",
   "execution_count": null,
   "id": "ee1470ff-dba2-4902-85e4-64d64f4fff12",
   "metadata": {
    "tags": []
   },
   "outputs": [],
   "source": [
    "#data_dir = 'Data/Paddocks/'\n",
    "\n",
    "stub = 'MILG_small'\n",
    "stub = 'fm_ndwi_4'\n",
    "stub = 'ADAMO'\n",
    "stub = 'GRANT'\n",
    "\n",
    "pol = gpd.read_file(out_path+stub+'_filt.gpkg')\n",
    "\n",
    "pol['paddock'] = range(1,len(pol)+1)\n",
    "pol['paddock'] = pol.paddock.astype('category')\n",
    "\n",
    "pol.plot(column = 'paddock')"
   ]
  },
  {
   "cell_type": "code",
   "execution_count": null,
   "id": "2abeadac-85b4-4a54-a50d-641d0af7b19e",
   "metadata": {
    "tags": []
   },
   "outputs": [],
   "source": [
    "gdf = pol\n",
    "gdf.explore(column='paddock') # note, I think column must be categorical for this... "
   ]
  },
  {
   "cell_type": "code",
   "execution_count": null,
   "id": "827408bd-1d12-4e5f-b6bc-7759360816e1",
   "metadata": {},
   "outputs": [],
   "source": []
  },
  {
   "cell_type": "code",
   "execution_count": null,
   "id": "88b3f7b8-2840-428d-adc3-7010efac0eb8",
   "metadata": {},
   "outputs": [],
   "source": [
    "# add some indices to the data\n",
    "ds_indi = calculate_indices(ds, index=['NDVI','NDWI'], collection='ga_s2_3') # calculate indices using the DEA tool. # calculate indices using the DEA tool.\n",
    "\n",
    "ds_indi\n"
   ]
  },
  {
   "cell_type": "code",
   "execution_count": null,
   "id": "a9edd806-6142-4424-83a3-656401cfca55",
   "metadata": {
    "tags": []
   },
   "outputs": [],
   "source": [
    "# Loop through every polygon and extract the smoothed time series for some number of bands. \n",
    "\n",
    "ts = []\n",
    "\n",
    "for datarow in pol.itertuples(index=True):\n",
    "    \n",
    "    #print(datarow)\n",
    "    \n",
    "    ds_clipped = ds_indi.rio.clip([datarow.geometry])\n",
    "    \n",
    "    pol_ts = ds_clipped.where(ds_clipped > 0).median(dim = ['x','y'])\n",
    "    \n",
    "    array = pol_ts.to_array().transpose('variable', 'time').values.astype(np.float32)\n",
    "    \n",
    "    ts.append(array[None,:] )\n",
    "        \n",
    "pvt = np.vstack(ts)"
   ]
  },
  {
   "cell_type": "code",
   "execution_count": null,
   "id": "0f042a30-576f-4b0f-8dc0-4746bda3bfa4",
   "metadata": {
    "tags": []
   },
   "outputs": [],
   "source": [
    "# the result is an array of paddocks by variable (e.g. band) by time\n",
    "# use ds.time and ds.geometry to bring in the time axis in proper format and location for each paddock\n",
    "print(pvt.shape)\n",
    "print(len(pol.geometry), len(ds.time))\n",
    "\n",
    "np.save(out_path+stub+'_pvt', pvt, allow_pickle=True, fix_imports=True)\n"
   ]
  },
  {
   "cell_type": "code",
   "execution_count": null,
   "id": "72b14329-513f-4485-bd8a-494ace2b96e5",
   "metadata": {
    "tags": []
   },
   "outputs": [],
   "source": [
    "import seaborn as sns\n",
    "\n",
    "pvt_ndvi = pvt[:,4,:]\n",
    "\n",
    "sns.heatmap(pvt_ndvi)"
   ]
  },
  {
   "cell_type": "code",
   "execution_count": null,
   "id": "d53fef6c-45a5-4dc4-a8cf-3ebb871a904e",
   "metadata": {
    "tags": []
   },
   "outputs": [],
   "source": [
    "ds.assign_coords"
   ]
  },
  {
   "cell_type": "code",
   "execution_count": null,
   "id": "4fe29a58-7f44-4bb7-b9d9-a6db9fcc9b15",
   "metadata": {
    "tags": []
   },
   "outputs": [],
   "source": [
    "\n",
    "# # NO LONGER NEEDED?\n",
    "\n",
    "\n",
    "# # save the time axis of the ds array as a csv so it can be opened as a pd.series\n",
    "\n",
    "# pd.Series(ds.time.values).to_csv('Data/'+stub+'_ds-time.csv',\n",
    "#                                 header = False,\n",
    "#                                 mode = 'w',\n",
    "#                                 index_label = 'False')\n"
   ]
  },
  {
   "cell_type": "code",
   "execution_count": null,
   "id": "eac1e0d3-0fa8-4385-b1c4-c69922a93549",
   "metadata": {
    "tags": []
   },
   "outputs": [],
   "source": [
    "# make a copy of the ds next time!!\n",
    "ds_ = ds\n",
    "\n",
    "ds_.time.attrs.pop('units', None)\n",
    "ds_.to_netcdf(out_path+stub+'_ds.nc')\n",
    "\n"
   ]
  },
  {
   "cell_type": "code",
   "execution_count": null,
   "id": "bfce64da-1fb1-421c-aacc-6ce3337e315a",
   "metadata": {
    "tags": []
   },
   "outputs": [],
   "source": [
    "ds_"
   ]
  },
  {
   "cell_type": "code",
   "execution_count": null,
   "id": "f2c6fb59-3efa-48f3-b338-d420ed08eff2",
   "metadata": {
    "tags": []
   },
   "outputs": [],
   "source": [
    "ds"
   ]
  }
 ],
 "metadata": {
  "kernelspec": {
   "display_name": "Python 3 (ipykernel)",
   "language": "python",
   "name": "python3"
  },
  "language_info": {
   "codemirror_mode": {
    "name": "ipython",
    "version": 3
   },
   "file_extension": ".py",
   "mimetype": "text/x-python",
   "name": "python",
   "nbconvert_exporter": "python",
   "pygments_lexer": "ipython3",
   "version": "3.10.8"
  }
 },
 "nbformat": 4,
 "nbformat_minor": 5
}
