{
 "cells": [
  {
   "cell_type": "code",
   "execution_count": 1,
   "id": "7dff5ee0-9074-436c-90d8-042b6dd8e117",
   "metadata": {},
   "outputs": [],
   "source": [
    "# Modules: gdal/3.6.4  \n",
    "# Environment base: /g/data/xe2/John/geospatenv"
   ]
  },
  {
   "cell_type": "code",
   "execution_count": 2,
   "id": "139c6020-d19d-499c-bae3-65f14e27c254",
   "metadata": {},
   "outputs": [],
   "source": [
    "# Note: For the canopy_height.download_new_tiles to work, you need to create an AWS account, then create a file named .aws/credentials in your home directory (e.g. /home/147/cb8590) with these contents:\n",
    "# [default]\n",
    "# aws_access_key_id = ACCESS_KEY\n",
    "# aws_secret_access_key = SECRET_KEY"
   ]
  },
  {
   "cell_type": "code",
   "execution_count": 3,
   "id": "81d62c64-9370-44d7-95e2-6192455ffbd0",
   "metadata": {},
   "outputs": [],
   "source": [
    "# Standard library\n",
    "import os\n",
    "\n",
    "# Local imports\n",
    "os.chdir(os.path.join(os.path.expanduser('~'), \"Projects/PaddockTS\"))\n",
    "from DAESIM_preprocess.util import gdata_dir, scratch_dir\n",
    "from DAESIM_preprocess.terrain_tiles import terrain_tiles\n",
    "from DAESIM_preprocess.slga_soils import slga_soils, asris_urls\n",
    "from DAESIM_preprocess.ozwald_yearly import ozwald_yearly_average\n",
    "from DAESIM_preprocess.ozwald_8day import ozwald_8day, ozwald_8day_abbreviations\n",
    "from DAESIM_preprocess.ozwald_daily import ozwald_daily, ozwald_daily_abbreviations\n",
    "from DAESIM_preprocess.silo_daily import silo_daily\n",
    "from DAESIM_preprocess.canopy_height import identify_relevant_tiles, download_new_tiles, merge_tiles"
   ]
  },
  {
   "cell_type": "code",
   "execution_count": 4,
   "id": "31b94dbb-b743-4928-9274-523f257eae74",
   "metadata": {},
   "outputs": [],
   "source": [
    "# Choosing location\n",
    "lat, lon = -34.3890427, 148.469499\n",
    "buffer = 0.005  # 0.01 degrees is about 1km in each direction, so 2km total\n",
    "stub = \"Test\"\n",
    "start_year = 2020\n",
    "end_year = 2021\n",
    "\n",
    "# Specify output destinations\n",
    "outdir = os.path.join(gdata_dir, \"Data/PadSeg/\")\n",
    "tmp_dir = scratch_dir"
   ]
  },
  {
   "cell_type": "code",
   "execution_count": 5,
   "id": "721131fb-3af5-471e-9952-f02836f8ed92",
   "metadata": {},
   "outputs": [
    {
     "name": "stdout",
     "output_type": "stream",
     "text": [
      "Downloaded /scratch/xe2/cb8590/Test_terrain_original.tif\n",
      "Saved /g/data/xe2/cb8590/Data/PadSeg/Test_terrain.tif\n",
      "CPU times: user 105 ms, sys: 25.4 ms, total: 130 ms\n",
      "Wall time: 352 ms\n"
     ]
    }
   ],
   "source": [
    "%%time\n",
    "# Download elevation from terrain tiles\n",
    "terrain_tiles(lat, lon, buffer, outdir, stub, tmp_dir)"
   ]
  },
  {
   "cell_type": "code",
   "execution_count": null,
   "id": "96ce8b3d-8905-4fad-a62e-a008fc6e2237",
   "metadata": {},
   "outputs": [
    {
     "name": "stdout",
     "output_type": "stream",
     "text": [
      "Downloaded /g/data/xe2/cb8590/Data/PadSeg/Test_Clay.tif\n",
      "Downloaded /g/data/xe2/cb8590/Data/PadSeg/Test_Sand.tif\n"
     ]
    }
   ],
   "source": [
    "%%time\n",
    "# The CSIRO soils API seems to frequently be randomly unavailable unfortunately\n",
    "variables = ['Clay', 'Sand', 'Silt', 'pH_CaCl2']\n",
    "slga_soils(variables, lat, lon, buffer, outdir, stub)"
   ]
  },
  {
   "cell_type": "code",
   "execution_count": null,
   "id": "06639cf1-14e9-4ddb-a6da-9bca1c3a446e",
   "metadata": {},
   "outputs": [],
   "source": [
    "%%time\n",
    "# Download average climate data from SILO hosted on OzWald\n",
    "variables = [\"Tmax\", \"Tmin\", \"Pg\"]\n",
    "ozwald_yearly_average(variables, lat, lon, buffer, start_year, end_year, outdir, stub, tmp_dir)"
   ]
  },
  {
   "cell_type": "code",
   "execution_count": null,
   "id": "24230e3d-8f4b-4de3-b36b-87abdd04311d",
   "metadata": {},
   "outputs": [],
   "source": [
    "%%time\n",
    "# Download modelled variables from OzWald\n",
    "variables = ['Ssoil']\n",
    "ds = ozwald_8day(variables, lat, lon, buffer, start_year, end_year, outdir, stub, tmp_dir)"
   ]
  },
  {
   "cell_type": "code",
   "execution_count": null,
   "id": "fbd4be7d-133d-4cee-a3ff-2c9be414f216",
   "metadata": {},
   "outputs": [],
   "source": [
    "%%time\n",
    "# Download daily weather data hosted on OzWald\n",
    "variables = [\"VPeff\", \"Uavg\"]\n",
    "ds = ozwald_daily(variables, lat, lon, buffer, start_year, end_year, outdir, stub, tmp_dir)"
   ]
  },
  {
   "cell_type": "code",
   "execution_count": null,
   "id": "a964b78c-5922-465c-8539-9943c99c9c71",
   "metadata": {},
   "outputs": [],
   "source": [
    "%%time\n",
    "ds_silo_daily = silo_daily([\"daily_rain\", \"max_temp\", \"min_temp\", \"et_morton_actual\", \"et_morton_potential\"], lat, lon, buffer, start_year, end_year, outdir, stub)\n",
    "ds_silo_daily"
   ]
  },
  {
   "cell_type": "code",
   "execution_count": null,
   "id": "b0057c76-3af5-4445-bc87-b0bd6d4b4d50",
   "metadata": {},
   "outputs": [],
   "source": [
    "%%time \n",
    "tiles = identify_relevant_tiles(lat, lon, buffer)\n",
    "download_new_tiles(tiles)\n",
    "merge_tiles(lat, lon, buffer, outdir, stub, tmp_dir)"
   ]
  },
  {
   "cell_type": "code",
   "execution_count": null,
   "id": "f2a2c73c-03f4-401b-b8da-5532d65b2ace",
   "metadata": {},
   "outputs": [],
   "source": []
  }
 ],
 "metadata": {
  "kernelspec": {
   "display_name": "Python 3 (ipykernel)",
   "language": "python",
   "name": "python3"
  },
  "language_info": {
   "codemirror_mode": {
    "name": "ipython",
    "version": 3
   },
   "file_extension": ".py",
   "mimetype": "text/x-python",
   "name": "python",
   "nbconvert_exporter": "python",
   "pygments_lexer": "ipython3",
   "version": "3.11.7"
  }
 },
 "nbformat": 4,
 "nbformat_minor": 5
}
