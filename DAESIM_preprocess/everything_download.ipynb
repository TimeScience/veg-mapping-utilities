{
 "cells": [
  {
   "cell_type": "code",
   "execution_count": 1,
   "id": "7dff5ee0-9074-436c-90d8-042b6dd8e117",
   "metadata": {},
   "outputs": [],
   "source": [
    "# Modules: gdal/3.6.4  \n",
    "# Environment base: /g/data/xe2/John/geospatenv"
   ]
  },
  {
   "cell_type": "code",
   "execution_count": 2,
   "id": "81d62c64-9370-44d7-95e2-6192455ffbd0",
   "metadata": {},
   "outputs": [
    {
     "name": "stdout",
     "output_type": "stream",
     "text": [
      "Downloaded /scratch/xe2/cb8590/tmp/MILG_1km_Ssoil_2020.nc\n",
      "Downloaded /scratch/xe2/cb8590/tmp/MILG_1km_Ssoil_2021.nc\n",
      "Downloaded /scratch/xe2/cb8590/tmp/MILG_1km_GPP_2020.nc\n",
      "Downloaded /scratch/xe2/cb8590/tmp/MILG_1km_GPP_2021.nc\n",
      "Saved: /g/data/xe2/cb8590/Data/PadSeg/MILG_1km_ozwald_8day.nc\n"
     ]
    }
   ],
   "source": [
    "# Standard library\n",
    "import os\n",
    "\n",
    "# Local imports\n",
    "os.chdir(os.path.join(os.path.expanduser('~'), \"Projects/PaddockTS\"))\n",
    "from DAESIM_preprocess.util import gdata_dir, scratch_dir\n",
    "from DAESIM_preprocess.terrain_tiles import terrain_tiles\n",
    "from DAESIM_preprocess.slga_soils import slga_soils, asris_urls\n",
    "from DAESIM_preprocess.ozwald_yearly import ozwald_yearly_average\n",
    "from DAESIM_preprocess.ozwald_8day import ozwald_8day, ozwald_8day_abbreviations\n",
    "from DAESIM_preprocess.ozwald_daily import ozwald_daily, ozwald_daily_abbreviations\n",
    "from DAESIM_preprocess.topography import pysheds_accumulation, catchment_gullies, catchment_ridges, calculate_slope"
   ]
  },
  {
   "cell_type": "code",
   "execution_count": 3,
   "id": "31b94dbb-b743-4928-9274-523f257eae74",
   "metadata": {},
   "outputs": [],
   "source": [
    "# Choosing location\n",
    "lat, lon = -34.3890427, 148.469499\n",
    "buffer = 0.005  # 0.01 degrees is about 1km in each direction, so 2km total\n",
    "stub = \"MILG_1km\"\n",
    "start_year = 2020\n",
    "end_year = 2021\n",
    "\n",
    "# Specify output destinations\n",
    "outdir = os.path.join(gdata_dir, \"Data/PadSeg/\")\n",
    "tmp_dir = os.path.join(scratch_dir, \"tmp\")"
   ]
  },
  {
   "cell_type": "code",
   "execution_count": 4,
   "id": "721131fb-3af5-471e-9952-f02836f8ed92",
   "metadata": {},
   "outputs": [
    {
     "name": "stdout",
     "output_type": "stream",
     "text": [
      "Downloaded /scratch/xe2/cb8590/tmp/MILG_1km_terrain_original.tif\n",
      "Saved /g/data/xe2/cb8590/Data/PadSeg/MILG_1km_terrain_cleaned.tif\n",
      "CPU times: user 102 ms, sys: 14.1 ms, total: 116 ms\n",
      "Wall time: 291 ms\n"
     ]
    }
   ],
   "source": [
    "%%time\n",
    "# Download elevation from terrain tiles\n",
    "terrain_tiles(lat, lon, buffer, outdir, stub, tmp_dir)"
   ]
  },
  {
   "cell_type": "code",
   "execution_count": 5,
   "id": "96ce8b3d-8905-4fad-a62e-a008fc6e2237",
   "metadata": {},
   "outputs": [
    {
     "name": "stdout",
     "output_type": "stream",
     "text": [
      "Downloaded /g/data/xe2/cb8590/Data/PadSeg/MILG_1km_Clay.tif\n"
     ]
    },
    {
     "ename": "XMLSyntaxError",
     "evalue": "AttValue: \" or ' expected, line 1, column 27 (<string>, line 1)",
     "output_type": "error",
     "traceback": [
      "\u001b[0;36m  File \u001b[0;32m<string>:1\u001b[0;36m\u001b[0m\n\u001b[0;31mXMLSyntaxError\u001b[0m\u001b[0;31m:\u001b[0m AttValue: \" or ' expected, line 1, column 27\n"
     ]
    }
   ],
   "source": [
    "%%time\n",
    "# The CSIRO soils API seems to frequently be randomly unavailable unfortunately\n",
    "# variables = ['Clay', 'Silt', 'Sand', 'pH_CaCl2', 'Bulk_Density', 'Available_Water_Capacity', 'Effective_Cation_Exchange_Capacity', 'Total_Nitrogen', 'Total_Phosphorus']\n",
    "variables = ['Clay', 'Sand']\n",
    "slga_soils(variables, lat, lon, buffer, outdir, stub)"
   ]
  },
  {
   "cell_type": "code",
   "execution_count": 6,
   "id": "06639cf1-14e9-4ddb-a6da-9bca1c3a446e",
   "metadata": {},
   "outputs": [
    {
     "name": "stdout",
     "output_type": "stream",
     "text": [
      "Saved: /g/data/xe2/cb8590/Data/PadSeg/MILG_1km_Maximum_Temperature_2020_2021_average.tif\n",
      "Saved: /g/data/xe2/cb8590/Data/PadSeg/MILG_1km_Minimum_Temperature_2020_2021_average.tif\n",
      "Saved: /g/data/xe2/cb8590/Data/PadSeg/MILG_1km_Annual_Rainfall_2020_2021_average.tif\n",
      "CPU times: user 153 ms, sys: 21.5 ms, total: 175 ms\n",
      "Wall time: 940 ms\n"
     ]
    }
   ],
   "source": [
    "%%time\n",
    "# Download average climate data from SILO hosted on OzWald\n",
    "variables = [\"Tmax\", \"Tmin\", \"Pg\"]\n",
    "ozwald_yearly_average(variables, lat, lon, buffer, start_year, end_year, outdir, stub, tmp_dir)"
   ]
  },
  {
   "cell_type": "code",
   "execution_count": 7,
   "id": "24230e3d-8f4b-4de3-b36b-87abdd04311d",
   "metadata": {},
   "outputs": [
    {
     "name": "stdout",
     "output_type": "stream",
     "text": [
      "Downloaded /scratch/xe2/cb8590/tmp/MILG_1km_SN_2020.nc\n",
      "Downloaded /scratch/xe2/cb8590/tmp/MILG_1km_SN_2021.nc\n",
      "Downloaded /scratch/xe2/cb8590/tmp/MILG_1km_Ssoil_2020.nc\n",
      "Downloaded /scratch/xe2/cb8590/tmp/MILG_1km_Ssoil_2021.nc\n",
      "Saved: /g/data/xe2/cb8590/Data/PadSeg/MILG_1km_ozwald_8day.nc\n",
      "CPU times: user 114 ms, sys: 10.2 ms, total: 124 ms\n",
      "Wall time: 2.49 s\n"
     ]
    }
   ],
   "source": [
    "%%time\n",
    "# Download modelled variables from OzWald\n",
    "variables = ['SN', 'Ssoil']\n",
    "ds = ozwald_8day(variables, lat, lon, buffer, start_year, end_year, outdir, stub, tmp_dir)"
   ]
  },
  {
   "cell_type": "code",
   "execution_count": 8,
   "id": "fbd4be7d-133d-4cee-a3ff-2c9be414f216",
   "metadata": {},
   "outputs": [
    {
     "name": "stdout",
     "output_type": "stream",
     "text": [
      "Downloaded /scratch/xe2/cb8590/tmp/MILG_20km_VPeff_2020.nc\n",
      "Downloaded /scratch/xe2/cb8590/tmp/MILG_20km_VPeff_2021.nc\n",
      "Downloaded /scratch/xe2/cb8590/tmp/MILG_20km_Uavg_2020.nc\n",
      "Downloaded /scratch/xe2/cb8590/tmp/MILG_20km_Uavg_2021.nc\n",
      "Saved: /g/data/xe2/cb8590/Data/PadSeg/MILG_20km_ozwald_daily.nc\n",
      "CPU times: user 93.9 ms, sys: 6.59 ms, total: 101 ms\n",
      "Wall time: 1.28 s\n"
     ]
    }
   ],
   "source": [
    "%%time\n",
    "# Download daily weather data hosted on OzWald\n",
    "variables = [\"VPeff\", \"Uavg\"]\n",
    "ds = ozwald_daily(variables, lat, lon, 0.1, start_year, end_year, outdir, \"MILG_20km\", tmp_dir)"
   ]
  },
  {
   "cell_type": "code",
   "execution_count": null,
   "id": "a964b78c-5922-465c-8539-9943c99c9c71",
   "metadata": {},
   "outputs": [],
   "source": []
  }
 ],
 "metadata": {
  "kernelspec": {
   "display_name": "Python 3 (ipykernel)",
   "language": "python",
   "name": "python3"
  },
  "language_info": {
   "codemirror_mode": {
    "name": "ipython",
    "version": 3
   },
   "file_extension": ".py",
   "mimetype": "text/x-python",
   "name": "python",
   "nbconvert_exporter": "python",
   "pygments_lexer": "ipython3",
   "version": "3.10.8"
  }
 },
 "nbformat": 4,
 "nbformat_minor": 5
}
