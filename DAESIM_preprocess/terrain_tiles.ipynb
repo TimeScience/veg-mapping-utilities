{
 "cells": [
  {
   "cell_type": "code",
   "execution_count": 15,
   "id": "478058d4-44a5-47ad-ae3e-a97da7b10e48",
   "metadata": {},
   "outputs": [],
   "source": [
    "import subprocess\n",
    "import os\n",
    "import numpy as np\n",
    "\n",
    "# Dependencies\n",
    "import rasterio\n",
    "from scipy.interpolate import griddata\n",
    "from scipy.ndimage import zoom\n",
    "from pyproj import Proj, Transformer"
   ]
  },
  {
   "cell_type": "code",
   "execution_count": 2,
   "id": "fba5aa4b-35d4-4837-96a9-a0bd9ffac9a5",
   "metadata": {},
   "outputs": [
    {
     "name": "stdout",
     "output_type": "stream",
     "text": [
      "username: cb8590\n",
      "home_dir: /home/147/cb8590\n",
      "gdata_dir: /g/data/xe2/cb8590\n",
      "scratch_dir: /scratch/xe2/cb8590\n"
     ]
    }
   ],
   "source": [
    "# Setup filepaths\n",
    "home_dir = os.path.expanduser('~')\n",
    "username = os.path.basename(home_dir)\n",
    "gdata_dir = os.path.join(\"/g/data/xe2\", username)\n",
    "scratch_dir = os.path.join('/scratch/xe2', username)\n",
    "paddockTS_dir = os.path.join(home_dir, \"Projects/PaddockTS\")\n",
    "print(\"username:\", username)\n",
    "print(\"home_dir:\", home_dir)\n",
    "print(\"gdata_dir:\", gdata_dir)\n",
    "print(\"scratch_dir:\", scratch_dir)"
   ]
  },
  {
   "cell_type": "code",
   "execution_count": 3,
   "id": "a70fafeb-5a17-4f99-83f3-5ae3ddb23e77",
   "metadata": {},
   "outputs": [],
   "source": [
    "# Local imports\n",
    "os.chdir(paddockTS_dir)\n",
    "from DAESIM_preprocess.slga_soils import create_bbox"
   ]
  },
  {
   "cell_type": "code",
   "execution_count": 4,
   "id": "b0b291d7-d8f8-4d3b-93c8-3cadbf87c25b",
   "metadata": {},
   "outputs": [],
   "source": [
    "# Choosing location\n",
    "lat, lon = -34.3890427, 148.469499\n",
    "buffer = 0.005  # 0.01 degrees is about 1km in each direction, so 2km total\n",
    "\n",
    "stub = \"MILG_1km\"\n",
    "outdir = os.path.join(gdata_dir, \"Data/PadSeg/\")\n",
    "tmp_dir = os.path.join(scratch_dir, \"tmp\")"
   ]
  },
  {
   "cell_type": "code",
   "execution_count": 5,
   "id": "ab86ba3c-a00b-49e2-a27b-12218b59c839",
   "metadata": {},
   "outputs": [
    {
     "data": {
      "text/plain": [
       "[148.46449900000002, -34.3940427, 148.474499, -34.384042699999995]"
      ]
     },
     "execution_count": 5,
     "metadata": {},
     "output_type": "execute_result"
    }
   ],
   "source": [
    "bbox = create_bbox(lat, lon, buffer)\n",
    "bbox"
   ]
  },
  {
   "cell_type": "code",
   "execution_count": 21,
   "id": "3b327fa6-423f-415c-9165-89fcfca6af9b",
   "metadata": {},
   "outputs": [
    {
     "data": {
      "text/plain": [
       "(16526992.42955847,\n",
       " -4081835.7602158766,\n",
       " 16528105.624466406,\n",
       " -4080486.7952851765)"
      ]
     },
     "execution_count": 21,
     "metadata": {},
     "output_type": "execute_result"
    }
   ],
   "source": [
    "def transform_bbox(bbox=[148.464499, -34.394042, 148.474499, -34.384042], inputEPSG=\"EPSG:4326\", outputEPSG=\"EPSG:3857\"):\n",
    "    transformer = Transformer.from_crs(inputEPSG, outputEPSG)\n",
    "    x1,y1 = transformer.transform(bbox[1], bbox[0])\n",
    "    x2,y2 = transformer.transform(bbox[3], bbox[2])\n",
    "    return (x1, y1, x2, y2)\n",
    "\n",
    "bbox_3857 = transform_bbox()\n",
    "bbox_3857"
   ]
  },
  {
   "cell_type": "code",
   "execution_count": null,
   "id": "9535eff4-ae1e-45c9-803b-81ea59e3e5f7",
   "metadata": {},
   "outputs": [],
   "source": [
    "def run_gdalwarp(bbox=[148.464499, -34.394042, 148.474499, -34.3840426], xml=\"mapzen_wms.xml\", filename=\"output.tif\"):\n",
    "    \"\"\"Use gdalwarp to download a tif from terrain tiles\"\"\"\n",
    "    min_x, min_y, max_x, max_y = bbox\n",
    "    command = [\n",
    "        \"gdalwarp\",\n",
    "        \"-s_srs\", \"EPSG:4326\",\n",
    "        \"-t_srs\", \"EPSG:3857\"\n",
    "        \"-of\", \"GTiff\",\n",
    "        \"-te\", str(min_x), str(min_y), str(max_x), str(max_y),\n",
    "        xml, filename\n",
    "    ]\n",
    "    result = subprocess.run(command, capture_output=True, text=True)\n",
    "    print(f\"Downloaded {filename}\")\n",
    "\n",
    "    print(\"STDOUT:\", result.stdout, flush=True)\n",
    "    print(\"STDERR:\", result.stderr, flush=True)\n",
    "\n",
    "\n",
    "\n",
    "result = run_gdalwarp(bbox=coords)"
   ]
  },
  {
   "cell_type": "code",
   "execution_count": null,
   "id": "5c82c57a-03b6-4ae1-87bb-68e91c71320b",
   "metadata": {},
   "outputs": [],
   "source": []
  },
  {
   "cell_type": "markdown",
   "id": "a1885f0a-5543-4055-861e-852eaa033b68",
   "metadata": {},
   "source": [
    "# Above here is new code"
   ]
  },
  {
   "cell_type": "code",
   "execution_count": null,
   "id": "a93ce6c0-3dc2-45c0-aed4-9c0afa78999d",
   "metadata": {},
   "outputs": [],
   "source": []
  },
  {
   "cell_type": "code",
   "execution_count": 28,
   "id": "3682bce3-5185-4664-bddd-4888521d0035",
   "metadata": {},
   "outputs": [],
   "source": [
    "def transform_coords(c1, c2, inputEPSG, outputEPSG):\n",
    "    x1,y1 = transform_proj(c1[0], c1[1], inputEPSG, outputEPSG)\n",
    "    x2,y2 = transform_proj(c2[0], c2[1], inputEPSG, outputEPSG)\n",
    "    return (x1, y1, x2, y2)\n",
    "\n",
    "def transform_proj(x, y, inputEPSG, outputEPSG):\n",
    "    in_str = 'epsg:' + str(inputEPSG)\n",
    "    out_str = 'epsg:' + str(outputEPSG)\n",
    "    tf = Transformer.from_crs(in_str, out_str)\n",
    "    return tf.transform(x, y)\n",
    "\n",
    "\n",
    "def create_bounding_box(lat, lon, distance_km):\n",
    "    \"\"\"Use google maps coordinates to create bounding box for Terrain Tiles\"\"\"\n",
    "    wgs84 = Proj(init='epsg:4326')  # WGS 84\n",
    "    web_mercator = Proj(init='epsg:3857')  # Web Mercator\n",
    "    \n",
    "    # Convert the center point to EPSG:3857\n",
    "    x_center, y_center = transform(wgs84, web_mercator, lon, lat)\n",
    "    \n",
    "    # Calculate the offset in meters (10 km = 10,000 meters)\n",
    "    offset = distance_km * 1000 / 2  # half distance for each direction\n",
    "    \n",
    "    # Define the bounding box in EPSG:3857\n",
    "    min_x = x_center - offset\n",
    "    max_x = x_center + offset\n",
    "    min_y = y_center - offset\n",
    "    max_y = y_center + offset\n",
    "    \n",
    "    return min_x, min_y, max_x, max_y"
   ]
  },
  {
   "cell_type": "code",
   "execution_count": 38,
   "id": "20776c65-7a73-416d-bfb6-2ea64badd624",
   "metadata": {},
   "outputs": [
    {
     "name": "stdout",
     "output_type": "stream",
     "text": [
      "Parsing coord: -35.280716, 149.021031\n",
      "Parsing single coord\n",
      "Parsed coords: ['-35.280716', ' 149.021031']\n"
     ]
    },
    {
     "name": "stderr",
     "output_type": "stream",
     "text": [
      "/g/data/xe2/John/geospatenv/lib/python3.11/site-packages/pyproj/crs/crs.py:141: FutureWarning: '+init=<authority>:<code>' syntax is deprecated. '<authority>:<code>' is the preferred initialization method. When making the change, be mindful of axis order changes: https://pyproj4.github.io/pyproj/stable/gotchas.html#axis-order-changes-in-proj-6\n",
      "  in_crs_string = _prepare_from_proj_string(in_crs_string)\n",
      "/g/data/xe2/John/geospatenv/lib/python3.11/site-packages/pyproj/crs/crs.py:141: FutureWarning: '+init=<authority>:<code>' syntax is deprecated. '<authority>:<code>' is the preferred initialization method. When making the change, be mindful of axis order changes: https://pyproj4.github.io/pyproj/stable/gotchas.html#axis-order-changes-in-proj-6\n",
      "  in_crs_string = _prepare_from_proj_string(in_crs_string)\n",
      "/jobfs/123114450.gadi-pbs/ipykernel_3430486/434968372.py:19: FutureWarning: This function is deprecated. See: https://pyproj4.github.io/pyproj/stable/gotchas.html#upgrading-to-pyproj-2-from-pyproj-1\n",
      "  x_center, y_center = transform(wgs84, web_mercator, lon, lat)\n"
     ]
    },
    {
     "data": {
      "text/plain": [
       "(16587445.288408635,\n",
       " -4203595.066255477,\n",
       " 16590445.288408635,\n",
       " -4200595.066255477)"
      ]
     },
     "execution_count": 38,
     "metadata": {},
     "output_type": "execute_result"
    }
   ],
   "source": [
    "spring_valley_single = \"-35.280716, 149.021031\"\n",
    "coord = parse_coord(spring_valley_single)\n",
    "coords = create_bounding_box(coord[0], coord[1], distance_km=3)\n",
    "coords"
   ]
  },
  {
   "cell_type": "code",
   "execution_count": 39,
   "id": "aee4b82b-b741-42bb-b00d-9025ecdb6280",
   "metadata": {},
   "outputs": [
    {
     "name": "stdout",
     "output_type": "stream",
     "text": [
      "bbox:[16587035.93650255, -4204394.83644907, 16588691.479969628, -4202027.838289784]\n"
     ]
    }
   ],
   "source": [
    "c1 = [-35.297579, 149.003879]\n",
    "c2 = [-35.280223, 149.018751]\n",
    "\n",
    "# Terrain tiles API requires EPSG:3857\n",
    "bbox_3857 = transform_coords(c1, c2, 4326, 3857)\n",
    "c1, c2 = (bbox_3857[1], bbox_3857[0]), (bbox_3857[3], bbox_3857[2]) \n",
    "west = min(c1[1], c2[1])\n",
    "north = min(c1[0], c2[0])\n",
    "east = max(c1[1], c2[1])\n",
    "south = max(c1[0], c2[0])\n",
    "bbox = [west, north, east, south]\n",
    "print(f\"bbox:{bbox}\" , flush=True)"
   ]
  },
  {
   "cell_type": "code",
   "execution_count": 41,
   "id": "cadc793f-c920-4793-a726-cac35e1d03f4",
   "metadata": {},
   "outputs": [
    {
     "name": "stdout",
     "output_type": "stream",
     "text": [
      "Code\t\t   Notebooks  README.md  main_chris.sh\tpaddocks_cleaned.csv\n",
      "DAESIM_preprocess  Planet_dl  main.sh\t main_test.sh\n"
     ]
    }
   ],
   "source": [
    "!ls"
   ]
  },
  {
   "cell_type": "code",
   "execution_count": 42,
   "id": "94f2767b-2c62-4f00-a5b2-1863ed4eb04c",
   "metadata": {},
   "outputs": [],
   "source": [
    "# Remove any existing generated files\n",
    "output_file = os.path.join(\"terrain_tiles.tif\")\n",
    "if os.path.exists(output_file):\n",
    "    os.remove(output_file)\n",
    "\n",
    "input_file = os.path.join('DAESIM_preprocess/mapzen_wms.xml')"
   ]
  },
  {
   "cell_type": "code",
   "execution_count": 44,
   "id": "0b3884a8-3e53-4818-860c-90e4e18ad62e",
   "metadata": {},
   "outputs": [],
   "source": [
    "def run_gdalwarp(bbox, input_file, output_file):\n",
    "    \"\"\"Use gdalwarp to download a tif using terrain tiles\"\"\"\n",
    "    min_x, min_y, max_x, max_y = bbox\n",
    "    \n",
    "    command = [\n",
    "        \"gdalwarp\",\n",
    "        \"-of\", \"GTiff\",\n",
    "        \"-te\", str(min_x), str(min_y), str(max_x), str(max_y),\n",
    "        input_file, output_file\n",
    "    ]\n",
    "    result = subprocess.run(command, capture_output=True, text=True)\n",
    "    \n",
    "    print(\"STDOUT:\", result.stdout, flush=True)\n",
    "    print(\"STDERR:\", result.stderr, flush=True)"
   ]
  },
  {
   "cell_type": "code",
   "execution_count": 45,
   "id": "61dcabd2-525d-4c67-844b-a56f205935aa",
   "metadata": {},
   "outputs": [
    {
     "name": "stdout",
     "output_type": "stream",
     "text": [
      "Running gdalwarp\n",
      "STDOUT: Creating output file that is 347P x 495L.\n",
      "Processing DAESIM_preprocess/mapzen_wms.xml [1/1] : 0Using internal nodata values (e.g. -32768) for image DAESIM_preprocess/mapzen_wms.xml.\n",
      "Copying nodata values from source DAESIM_preprocess/mapzen_wms.xml to destination terrain_tiles.tif.\n",
      "...10...20...30...40...50...60...70...80...90...100 - done.\n",
      "\n",
      "STDERR: \n"
     ]
    }
   ],
   "source": [
    "# Harvest the data\n",
    "print(\"Running gdalwarp\", flush=True)\n",
    "run_gdalwarp(bbox, input_file, output_file)"
   ]
  },
  {
   "cell_type": "code",
   "execution_count": 27,
   "id": "e4073ee1-c979-4329-9858-7b802713583d",
   "metadata": {},
   "outputs": [
    {
     "name": "stdout",
     "output_type": "stream",
     "text": [
      "Parsing coord: -35.280716, 149.021031\n",
      "Parsing single coord\n",
      "Parsed coords: ['-35.280716', ' 149.021031']\n",
      "Started creating the bounding box\n",
      "coords:  [[-35.29171510601581, 149.0075562707382], [-35.26971539981895, 149.03450572926178]]\n",
      "bbox:[16587445.288408635, -4203595.066255476, 16590445.288408635, -4200595.066255477]\n",
      "Running gdalwarp\n",
      "STDOUT: \n",
      "STDERR: ERROR 4: mapzen_wms.xml: No such file or directory\n",
      "ERROR 4: Failed to open source file mapzen_wms.xml\n",
      "\n",
      "\n"
     ]
    },
    {
     "name": "stderr",
     "output_type": "stream",
     "text": [
      "/g/data/xe2/John/geospatenv/lib/python3.11/site-packages/pyproj/crs/crs.py:141: FutureWarning: '+init=<authority>:<code>' syntax is deprecated. '<authority>:<code>' is the preferred initialization method. When making the change, be mindful of axis order changes: https://pyproj4.github.io/pyproj/stable/gotchas.html#axis-order-changes-in-proj-6\n",
      "  in_crs_string = _prepare_from_proj_string(in_crs_string)\n",
      "/g/data/xe2/John/geospatenv/lib/python3.11/site-packages/pyproj/crs/crs.py:141: FutureWarning: '+init=<authority>:<code>' syntax is deprecated. '<authority>:<code>' is the preferred initialization method. When making the change, be mindful of axis order changes: https://pyproj4.github.io/pyproj/stable/gotchas.html#axis-order-changes-in-proj-6\n",
      "  in_crs_string = _prepare_from_proj_string(in_crs_string)\n",
      "/jobfs/123114450.gadi-pbs/ipykernel_3430486/4292346436.py:177: FutureWarning: This function is deprecated. See: https://pyproj4.github.io/pyproj/stable/gotchas.html#upgrading-to-pyproj-2-from-pyproj-1\n",
      "  x_center, y_center = transform(wgs84, web_mercator, lon, lat)\n",
      "/jobfs/123114450.gadi-pbs/ipykernel_3430486/4292346436.py:183: FutureWarning: This function is deprecated. See: https://pyproj4.github.io/pyproj/stable/gotchas.html#upgrading-to-pyproj-2-from-pyproj-1\n",
      "  min_x, min_y = transform(web_mercator, wgs84, x_center - offset, y_center - offset)\n",
      "/jobfs/123114450.gadi-pbs/ipykernel_3430486/4292346436.py:184: FutureWarning: This function is deprecated. See: https://pyproj4.github.io/pyproj/stable/gotchas.html#upgrading-to-pyproj-2-from-pyproj-1\n",
      "  max_x, max_y = transform(web_mercator, wgs84, x_center + offset, y_center + offset)\n"
     ]
    },
    {
     "ename": "RasterioIOError",
     "evalue": "Data/terrain_tiles.tif: No such file or directory",
     "output_type": "error",
     "traceback": [
      "\u001b[0;31m---------------------------------------------------------------------------\u001b[0m",
      "\u001b[0;31mCPLE_OpenFailedError\u001b[0m                      Traceback (most recent call last)",
      "File \u001b[0;32mrasterio/_base.pyx:310\u001b[0m, in \u001b[0;36mrasterio._base.DatasetBase.__init__\u001b[0;34m()\u001b[0m\n",
      "File \u001b[0;32mrasterio/_base.pyx:221\u001b[0m, in \u001b[0;36mrasterio._base.open_dataset\u001b[0;34m()\u001b[0m\n",
      "File \u001b[0;32mrasterio/_err.pyx:221\u001b[0m, in \u001b[0;36mrasterio._err.exc_wrap_pointer\u001b[0;34m()\u001b[0m\n",
      "\u001b[0;31mCPLE_OpenFailedError\u001b[0m: Data/terrain_tiles.tif: No such file or directory",
      "\nDuring handling of the above exception, another exception occurred:\n",
      "\u001b[0;31mRasterioIOError\u001b[0m                           Traceback (most recent call last)",
      "Cell \u001b[0;32mIn[27], line 194\u001b[0m\n\u001b[1;32m    191\u001b[0m coords \u001b[38;5;241m=\u001b[39m create_bounding_box(coord[\u001b[38;5;241m0\u001b[39m], coord[\u001b[38;5;241m1\u001b[39m])\n\u001b[1;32m    193\u001b[0m \u001b[38;5;28mprint\u001b[39m(\u001b[38;5;124m\"\u001b[39m\u001b[38;5;124mcoords: \u001b[39m\u001b[38;5;124m\"\u001b[39m, coords)\n\u001b[0;32m--> 194\u001b[0m dem \u001b[38;5;241m=\u001b[39m \u001b[43mgenerate_terrain_tiles\u001b[49m\u001b[43m(\u001b[49m\u001b[43mcoords\u001b[49m\u001b[43m[\u001b[49m\u001b[38;5;241;43m0\u001b[39;49m\u001b[43m]\u001b[49m\u001b[43m,\u001b[49m\u001b[43m \u001b[49m\u001b[43mcoords\u001b[49m\u001b[43m[\u001b[49m\u001b[38;5;241;43m1\u001b[39;49m\u001b[43m]\u001b[49m\u001b[43m)\u001b[49m\n\u001b[1;32m    195\u001b[0m plt\u001b[38;5;241m.\u001b[39mimshow(dem)\n\u001b[1;32m    196\u001b[0m plt\u001b[38;5;241m.\u001b[39mshow()\n",
      "Cell \u001b[0;32mIn[27], line 79\u001b[0m, in \u001b[0;36mgenerate_terrain_tiles\u001b[0;34m(c1, c2)\u001b[0m\n\u001b[1;32m     76\u001b[0m run_gdalwarp(bbox, input_file, output_file)\n\u001b[1;32m     78\u001b[0m \u001b[38;5;66;03m# Load the tiff into a numpy array rasterio\u001b[39;00m\n\u001b[0;32m---> 79\u001b[0m \u001b[38;5;28;01mwith\u001b[39;00m \u001b[43mrasterio\u001b[49m\u001b[38;5;241;43m.\u001b[39;49m\u001b[43mopen\u001b[49m\u001b[43m(\u001b[49m\u001b[43moutput_file\u001b[49m\u001b[43m)\u001b[49m \u001b[38;5;28;01mas\u001b[39;00m dataset:\n\u001b[1;32m     80\u001b[0m     dem \u001b[38;5;241m=\u001b[39m dataset\u001b[38;5;241m.\u001b[39mread(\u001b[38;5;241m1\u001b[39m) \n\u001b[1;32m     81\u001b[0m     meta \u001b[38;5;241m=\u001b[39m dataset\u001b[38;5;241m.\u001b[39mmeta\u001b[38;5;241m.\u001b[39mcopy()\n",
      "File \u001b[0;32m/g/data/xe2/John/geospatenv/lib/python3.11/site-packages/rasterio/env.py:451\u001b[0m, in \u001b[0;36mensure_env_with_credentials.<locals>.wrapper\u001b[0;34m(*args, **kwds)\u001b[0m\n\u001b[1;32m    448\u001b[0m     session \u001b[38;5;241m=\u001b[39m DummySession()\n\u001b[1;32m    450\u001b[0m \u001b[38;5;28;01mwith\u001b[39;00m env_ctor(session\u001b[38;5;241m=\u001b[39msession):\n\u001b[0;32m--> 451\u001b[0m     \u001b[38;5;28;01mreturn\u001b[39;00m \u001b[43mf\u001b[49m\u001b[43m(\u001b[49m\u001b[38;5;241;43m*\u001b[39;49m\u001b[43margs\u001b[49m\u001b[43m,\u001b[49m\u001b[43m \u001b[49m\u001b[38;5;241;43m*\u001b[39;49m\u001b[38;5;241;43m*\u001b[39;49m\u001b[43mkwds\u001b[49m\u001b[43m)\u001b[49m\n",
      "File \u001b[0;32m/g/data/xe2/John/geospatenv/lib/python3.11/site-packages/rasterio/__init__.py:304\u001b[0m, in \u001b[0;36mopen\u001b[0;34m(fp, mode, driver, width, height, count, crs, transform, dtype, nodata, sharing, **kwargs)\u001b[0m\n\u001b[1;32m    301\u001b[0m path \u001b[38;5;241m=\u001b[39m _parse_path(raw_dataset_path)\n\u001b[1;32m    303\u001b[0m \u001b[38;5;28;01mif\u001b[39;00m mode \u001b[38;5;241m==\u001b[39m \u001b[38;5;124m\"\u001b[39m\u001b[38;5;124mr\u001b[39m\u001b[38;5;124m\"\u001b[39m:\n\u001b[0;32m--> 304\u001b[0m     dataset \u001b[38;5;241m=\u001b[39m \u001b[43mDatasetReader\u001b[49m\u001b[43m(\u001b[49m\u001b[43mpath\u001b[49m\u001b[43m,\u001b[49m\u001b[43m \u001b[49m\u001b[43mdriver\u001b[49m\u001b[38;5;241;43m=\u001b[39;49m\u001b[43mdriver\u001b[49m\u001b[43m,\u001b[49m\u001b[43m \u001b[49m\u001b[43msharing\u001b[49m\u001b[38;5;241;43m=\u001b[39;49m\u001b[43msharing\u001b[49m\u001b[43m,\u001b[49m\u001b[43m \u001b[49m\u001b[38;5;241;43m*\u001b[39;49m\u001b[38;5;241;43m*\u001b[39;49m\u001b[43mkwargs\u001b[49m\u001b[43m)\u001b[49m\n\u001b[1;32m    305\u001b[0m \u001b[38;5;28;01melif\u001b[39;00m mode \u001b[38;5;241m==\u001b[39m \u001b[38;5;124m\"\u001b[39m\u001b[38;5;124mr+\u001b[39m\u001b[38;5;124m\"\u001b[39m:\n\u001b[1;32m    306\u001b[0m     dataset \u001b[38;5;241m=\u001b[39m get_writer_for_path(path, driver\u001b[38;5;241m=\u001b[39mdriver)(\n\u001b[1;32m    307\u001b[0m         path, mode, driver\u001b[38;5;241m=\u001b[39mdriver, sharing\u001b[38;5;241m=\u001b[39msharing, \u001b[38;5;241m*\u001b[39m\u001b[38;5;241m*\u001b[39mkwargs\n\u001b[1;32m    308\u001b[0m     )\n",
      "File \u001b[0;32mrasterio/_base.pyx:312\u001b[0m, in \u001b[0;36mrasterio._base.DatasetBase.__init__\u001b[0;34m()\u001b[0m\n",
      "\u001b[0;31mRasterioIOError\u001b[0m: Data/terrain_tiles.tif: No such file or directory"
     ]
    }
   ],
   "source": [
    "\n",
    "\n",
    "\n",
    "# Load the tiff into a numpy array rasterio\n",
    "with rasterio.open(output_file) as dataset:\n",
    "    dem = dataset.read(1) \n",
    "    meta = dataset.meta.copy()\n",
    "\n",
    "downsampled_dem = dem.copy()\n",
    "\n",
    "# There are some clearly bad measurements in terrain tiles and this attempts to assign them np.nan.\n",
    "threshold = 10\n",
    "heights = sorted(set(downsampled_dem.flatten()))\n",
    "lowest_correct_height = min(heights)\n",
    "for i in range(len(heights)//2, -1, -1):\n",
    "    if heights[i + 1] - heights[i] > threshold:\n",
    "        lowest_correct_height = heights[i + 1] \n",
    "        break\n",
    "dem_cleaned = np.where(downsampled_dem < lowest_correct_height, np.nan, downsampled_dem)\n",
    "Z = dem_cleaned\n",
    "\n",
    "# Extract into lists for interpolating\n",
    "x_coords, y_coords = np.meshgrid(np.arange(Z.shape[1]), np.arange(Z.shape[0]))\n",
    "x_flat = x_coords.flatten()\n",
    "y_flat = y_coords.flatten()\n",
    "z_flat = Z.flatten()\n",
    "\n",
    "# Remove NaN values before interpolating\n",
    "mask = ~np.isnan(z_flat)\n",
    "x_flat = x_flat[mask]\n",
    "y_flat = y_flat[mask]\n",
    "z_flat = z_flat[mask]\n",
    "xy_coords = np.vstack((x_flat, y_flat), dtype=float).T\n",
    "\n",
    "# Replace bad/nan/missing values with the nearest neighbour\n",
    "X, Y = np.meshgrid(np.linspace(0, Z.shape[1] - 1, Z.shape[1]),\n",
    "            np.linspace(0, Z.shape[0] - 1, Z.shape[0]))\n",
    "print(f\"Interpolating grid of size {Z.shape}\", flush=True)\n",
    "nearest = griddata(xy_coords, z_flat, (X, Y), method='nearest')\n",
    "print(f\"Size of returned grid {nearest.shape}\", flush=True)\n",
    "\n",
    "# From my tests I couldn't see any improvement from downscaling to 30mx30m\n",
    "# zoomed = zoom(nearest, 1/3, order=0) \n",
    "zoomed = nearest\n",
    "\n",
    "# Modify the meta as needed, for example if you're saving a single band:\n",
    "meta.update({\n",
    "    \"driver\": \"GTiff\",\n",
    "    \"height\": zoomed.shape[0],\n",
    "    \"width\": zoomed.shape[1],\n",
    "    \"count\": 1,  # Number of bands\n",
    "    \"dtype\": dem.dtype\n",
    "})\n",
    "\n",
    "# Save the numpy array back to a new TIFF file\n",
    "output_tiff = os.path.join(\"Data/dem.tif\")\n",
    "with rasterio.open(output_tiff, 'w', **meta) as dst:\n",
    "    dst.write(dem, 1)\n",
    "print(f\"Saved the numpy array of shape {zoomed.shape} to {output_tiff}\")\n",
    "\n",
    "return zoomed\n",
    "\n",
    "\n",
    "def parse_coord(coord):\n",
    "  \"\"\"\n",
    "  Example inputs:\n",
    "    Single coord : '-34.737893, 150.530024'\n",
    "    Corner coords: '-34.737893, 150.530024; -34.737893, 150.530024'\n",
    "  Example returns:\n",
    "    Single coord : ['-34.737893', '150.530024']\n",
    "    Corner coords: [[-34.737893, 150.530024],[-34.737893, 150.530024]]\n",
    "  \"\"\"\n",
    "  print(f\"Parsing coord: {coord}\")\n",
    "  if ';' in coord:\n",
    "    print(\"Parsing corner coords\")\n",
    "    try:\n",
    "      if ';' in coord:\n",
    "        print(\"found ; in coord\")\n",
    "        coords = coord.split(';')\n",
    "      print(f\"Coord after split: {coords}\")\n",
    "      coords = [c.split(',') for c in coords]\n",
    "      coords = [[float(c) for c in cs] for cs in coords]\n",
    "    except:\n",
    "      coords = None\n",
    "  else:\n",
    "    print(\"Parsing single coord\")\n",
    "    try:\n",
    "      coords = coord.split(',')\n",
    "      float(coords[0]),float(coords[1])\n",
    "    except:\n",
    "      coords = None\n",
    "\n",
    "  print(f\"Parsed coords: {coords}\")\n",
    "  return coords\n",
    "\n",
    "def create_bounding_box(lat, lon, distance_km=3):\n",
    "    \"\"\"Create a bounding box using the 'epsg:3857' (flat) projection, and convert back to 'epsg:4326' (sphere) projection\"\"\"\n",
    "    print(\"Started creating the bounding box\", flush=True)\n",
    "    wgs84 = Proj(init='epsg:4326')  # WGS 84\n",
    "    web_mercator = Proj(init='epsg:3857')  # Web Mercator\n",
    "    \n",
    "    # Convert the center point to EPSG:3857\n",
    "    x_center, y_center = transform(wgs84, web_mercator, lon, lat)\n",
    "    \n",
    "    # Calculate the offset in meters (10 km = 10,000 meters)\n",
    "    offset = distance_km * 1000 / 2  # half distance for each direction\n",
    "    \n",
    "    # Define the bounding box and convert back to wgs84\n",
    "    min_x, min_y = transform(web_mercator, wgs84, x_center - offset, y_center - offset)\n",
    "    max_x, max_y = transform(web_mercator, wgs84, x_center + offset, y_center + offset)\n",
    "\n",
    "    coords = [[min_y, min_x], [max_y, max_x]]\n",
    "    return coords\n",
    "\n",
    "\n",
    "print(\"coords: \", coords)\n",
    "dem = generate_terrain_tiles(coords[0], coords[1])\n",
    "plt.imshow(dem)\n",
    "plt.show()"
   ]
  },
  {
   "cell_type": "code",
   "execution_count": 31,
   "id": "176ae97a-e966-4169-a4db-30c99ef9d35b",
   "metadata": {},
   "outputs": [
    {
     "name": "stdout",
     "output_type": "stream",
     "text": [
      "Parsing coord: -35.280716, 149.021031\n",
      "Parsing single coord\n",
      "Parsed coords: ['-35.280716', ' 149.021031']\n"
     ]
    },
    {
     "name": "stderr",
     "output_type": "stream",
     "text": [
      "/g/data/xe2/John/geospatenv/lib/python3.11/site-packages/pyproj/crs/crs.py:141: FutureWarning: '+init=<authority>:<code>' syntax is deprecated. '<authority>:<code>' is the preferred initialization method. When making the change, be mindful of axis order changes: https://pyproj4.github.io/pyproj/stable/gotchas.html#axis-order-changes-in-proj-6\n",
      "  in_crs_string = _prepare_from_proj_string(in_crs_string)\n",
      "/g/data/xe2/John/geospatenv/lib/python3.11/site-packages/pyproj/crs/crs.py:141: FutureWarning: '+init=<authority>:<code>' syntax is deprecated. '<authority>:<code>' is the preferred initialization method. When making the change, be mindful of axis order changes: https://pyproj4.github.io/pyproj/stable/gotchas.html#axis-order-changes-in-proj-6\n",
      "  in_crs_string = _prepare_from_proj_string(in_crs_string)\n",
      "/jobfs/123114450.gadi-pbs/ipykernel_3430486/434968372.py:19: FutureWarning: This function is deprecated. See: https://pyproj4.github.io/pyproj/stable/gotchas.html#upgrading-to-pyproj-2-from-pyproj-1\n",
      "  x_center, y_center = transform(wgs84, web_mercator, lon, lat)\n"
     ]
    },
    {
     "data": {
      "text/plain": [
       "(16587445.288408635,\n",
       " -4203595.066255477,\n",
       " 16590445.288408635,\n",
       " -4200595.066255477)"
      ]
     },
     "execution_count": 31,
     "metadata": {},
     "output_type": "execute_result"
    }
   ],
   "source": []
  },
  {
   "cell_type": "code",
   "execution_count": null,
   "id": "45235a58-9dd1-4673-9ee3-2a4c08d6fa6f",
   "metadata": {},
   "outputs": [],
   "source": []
  },
  {
   "cell_type": "code",
   "execution_count": 34,
   "id": "beaf9f9c-feda-4e8f-9d2d-d145645fdb58",
   "metadata": {},
   "outputs": [
    {
     "name": "stdout",
     "output_type": "stream",
     "text": [
      "Downloaded output.tif\n",
      "STDOUT: \n",
      "STDERR: ERROR 4: GTiff: No such file or directory\n",
      "ERROR 4: Failed to open source file GTiff\n",
      "\n",
      "\n"
     ]
    }
   ],
   "source": []
  },
  {
   "cell_type": "code",
   "execution_count": 24,
   "id": "2166b52d-79a0-418d-9032-5ab628e54496",
   "metadata": {},
   "outputs": [],
   "source": [
    "result"
   ]
  },
  {
   "cell_type": "code",
   "execution_count": 7,
   "id": "09b2bd77-07e6-4e5e-897c-2feebf6fc856",
   "metadata": {},
   "outputs": [
    {
     "name": "stdout",
     "output_type": "stream",
     "text": [
      "Code\t\t   Notebooks  README.md  main_chris.sh\tpaddocks_cleaned.csv\n",
      "DAESIM_preprocess  Planet_dl  main.sh\t main_test.sh\n"
     ]
    }
   ],
   "source": [
    "!ls"
   ]
  },
  {
   "cell_type": "code",
   "execution_count": null,
   "id": "49b6651f-5179-42b9-a45e-9bb7e93f58e5",
   "metadata": {},
   "outputs": [],
   "source": [
    "def terrain_tiles(lat, lon, buffer, outdir, stub):\n",
    "    \"\"\"Download 10m resolution elevation from terrain_tiles\"\"\""
   ]
  },
  {
   "cell_type": "code",
   "execution_count": null,
   "id": "848af834-0b8a-4406-90fe-fa7abc892b58",
   "metadata": {},
   "outputs": [],
   "source": [
    "\n",
    "\n",
    "\n",
    "\n",
    "\n",
    "def transform_coords(c1, c2, inputEPSG, outputEPSG):\n",
    "    x1,y1 = transform_proj(c1[0], c1[1], inputEPSG, outputEPSG)\n",
    "    x2,y2 = transform_proj(c2[0], c2[1], inputEPSG, outputEPSG)\n",
    "    return (x1, y1, x2, y2)\n",
    "\n",
    "def create_bounding_box(lat, lon, distance_km):\n",
    "    \"\"\"Use google maps coordinates to create bounding box for Terrain Tiles\"\"\"\n",
    "    wgs84 = Proj(init='epsg:4326')  # WGS 84\n",
    "    web_mercator = Proj(init='epsg:3857')  # Web Mercator\n",
    "    \n",
    "    # Convert the center point to EPSG:3857\n",
    "    x_center, y_center = transform(wgs84, web_mercator, lon, lat)\n",
    "    \n",
    "    # Calculate the offset in meters (10 km = 10,000 meters)\n",
    "    offset = distance_km * 1000 / 2  # half distance for each direction\n",
    "    \n",
    "    # Define the bounding box in EPSG:3857\n",
    "    min_x = x_center - offset\n",
    "    max_x = x_center + offset\n",
    "    min_y = y_center - offset\n",
    "    max_y = y_center + offset\n",
    "    \n",
    "    return min_x, min_y, max_x, max_y\n",
    "\n",
    "\n",
    "def run_gdalwarp(bbox, input_file, output_file):\n",
    "    \"\"\"Use gdalwarp to download a tif using terrain tiles\"\"\"\n",
    "    min_x, min_y, max_x, max_y = bbox\n",
    "    \n",
    "    command = [\n",
    "        \"gdalwarp\",\n",
    "        \"-of\", \"GTiff\",\n",
    "        \"-te\", str(min_x), str(min_y), str(max_x), str(max_y),\n",
    "        input_file, output_file\n",
    "    ]\n",
    "    subprocess.run(command, capture_output=True, text=True)\n",
    "    \n",
    "    print(\"STDOUT:\", result.stdout, flush=True)\n",
    "    print(\"STDERR:\", result.stderr, flush=True)\n",
    "\n",
    "\n",
    "def generate_terrain_tiles(c1, c2):\n",
    "    \"\"\"Harvest \n",
    "    params:\n",
    "        c1 - coordinate 1. e.g. [-35.297579, 149.003879] (coordinate reference system is EPSG:4326, the one use by google maps)\n",
    "        c2 - coordinate 2. e.g. [-35.280223, 149.018751]\n",
    "    return:\n",
    "        dem - a 2d array of floats showing the height at each cell\n",
    "    \"\"\"\n",
    "    # Terrain tiles API requires EPSG:3857\n",
    "    bbox_3857 = transform_coords(c1, c2, 4326, 3857)\n",
    "    c1, c2 = (bbox_3857[1], bbox_3857[0]), (bbox_3857[3], bbox_3857[2]) \n",
    "    west = min(c1[1], c2[1])\n",
    "    north = min(c1[0], c2[0])\n",
    "    east = max(c1[1], c2[1])\n",
    "    south = max(c1[0], c2[0])\n",
    "    bbox = [west, north, east, south]\n",
    "    print(f\"bbox:{bbox}\" , flush=True)\n",
    "\n",
    "    # Remove any existing generated files\n",
    "    output_file = os.path.join(\"Data/terrain_tiles.tif\")\n",
    "    if os.path.exists(output_file):\n",
    "        os.remove(output_file)\n",
    "\n",
    "    input_file = os.path.join('Backend/queries/mapzen_wms.xml')\n",
    "\n",
    "    # Harvest the data\n",
    "    print(\"Running gdalwarp\", flush=True)\n",
    "    run_gdalwarp(bbox, input_file, output_file)\n",
    "\n",
    "    # Load the tiff into a numpy array rasterio\n",
    "    with rasterio.open(output_file) as dataset:\n",
    "        dem = dataset.read(1) \n",
    "        meta = dataset.meta.copy()\n",
    "\n",
    "    downsampled_dem = dem.copy()\n",
    "\n",
    "    # There are some clearly bad measurements in terrain tiles and this attempts to assign them np.nan.\n",
    "    threshold = 10\n",
    "    heights = sorted(set(downsampled_dem.flatten()))\n",
    "    lowest_correct_height = min(heights)\n",
    "    for i in range(len(heights)//2, -1, -1):\n",
    "        if heights[i + 1] - heights[i] > threshold:\n",
    "            lowest_correct_height = heights[i + 1] \n",
    "            break\n",
    "    dem_cleaned = np.where(downsampled_dem < lowest_correct_height, np.nan, downsampled_dem)\n",
    "    Z = dem_cleaned\n",
    "\n",
    "    # Extract into lists for interpolating\n",
    "    x_coords, y_coords = np.meshgrid(np.arange(Z.shape[1]), np.arange(Z.shape[0]))\n",
    "    x_flat = x_coords.flatten()\n",
    "    y_flat = y_coords.flatten()\n",
    "    z_flat = Z.flatten()\n",
    "\n",
    "    # Remove NaN values before interpolating\n",
    "    mask = ~np.isnan(z_flat)\n",
    "    x_flat = x_flat[mask]\n",
    "    y_flat = y_flat[mask]\n",
    "    z_flat = z_flat[mask]\n",
    "    xy_coords = np.vstack((x_flat, y_flat), dtype=float).T\n",
    "\n",
    "    # Replace bad/nan/missing values with the nearest neighbour\n",
    "    X, Y = np.meshgrid(np.linspace(0, Z.shape[1] - 1, Z.shape[1]),\n",
    "                np.linspace(0, Z.shape[0] - 1, Z.shape[0]))\n",
    "    print(f\"Interpolating grid of size {Z.shape}\", flush=True)\n",
    "    nearest = griddata(xy_coords, z_flat, (X, Y), method='nearest')\n",
    "    print(f\"Size of returned grid {nearest.shape}\", flush=True)\n",
    "\n",
    "    # From my tests I couldn't see any improvement from downscaling to 30mx30m\n",
    "    # zoomed = zoom(nearest, 1/3, order=0) \n",
    "    zoomed = nearest\n",
    "\n",
    "    # Modify the meta as needed, for example if you're saving a single band:\n",
    "    meta.update({\n",
    "        \"driver\": \"GTiff\",\n",
    "        \"height\": zoomed.shape[0],\n",
    "        \"width\": zoomed.shape[1],\n",
    "        \"count\": 1,  # Number of bands\n",
    "        \"dtype\": dem.dtype\n",
    "    })\n",
    "\n",
    "    # Save the numpy array back to a new TIFF file\n",
    "    output_tiff = os.path.join(\"Data/dem.tif\")\n",
    "    with rasterio.open(output_tiff, 'w', **meta) as dst:\n",
    "        dst.write(dem, 1)\n",
    "    print(f\"Saved the numpy array of shape {zoomed.shape} to {output_tiff}\")\n",
    "\n",
    "    return zoomed\n",
    "\n"
   ]
  }
 ],
 "metadata": {
  "kernelspec": {
   "display_name": "Python 3 (ipykernel)",
   "language": "python",
   "name": "python3"
  },
  "language_info": {
   "codemirror_mode": {
    "name": "ipython",
    "version": 3
   },
   "file_extension": ".py",
   "mimetype": "text/x-python",
   "name": "python",
   "nbconvert_exporter": "python",
   "pygments_lexer": "ipython3",
   "version": "3.11.7"
  }
 },
 "nbformat": 4,
 "nbformat_minor": 5
}
