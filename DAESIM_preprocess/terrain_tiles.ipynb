{
 "cells": [
  {
   "cell_type": "code",
   "execution_count": 1,
   "id": "478058d4-44a5-47ad-ae3e-a97da7b10e48",
   "metadata": {},
   "outputs": [],
   "source": [
    "## NCI ARE Setup\n",
    "# Modules: gdal/3.6.4  \n",
    "# Environment base: /g/data/xe2/John/geospatenv"
   ]
  },
  {
   "cell_type": "code",
   "execution_count": null,
   "id": "ebee73f3-46bb-4ee3-bb49-09b84817c7d6",
   "metadata": {},
   "outputs": [],
   "source": [
    "# Standard library\n",
    "import subprocess\n",
    "import os\n",
    "\n",
    "# Dependencies\n",
    "import numpy as np\n",
    "import rasterio\n",
    "import matplotlib.pyplot as plt\n",
    "from scipy.interpolate import griddata\n",
    "from scipy.ndimage import zoom\n",
    "from pyproj import Proj, Transformer\n",
    "import rioxarray as rxr\n",
    "\n",
    "# Local imports\n",
    "os.chdir(os.path.join(os.path.expanduser('~'), \"Projects/PaddockTS\"))\n",
    "from DAESIM_preprocess.filepaths import gdata_dir, scratch_dir\n",
    "from DAESIM_preprocess.slga_soils import create_bbox"
   ]
  },
  {
   "cell_type": "code",
   "execution_count": 18,
   "id": "3b327fa6-423f-415c-9165-89fcfca6af9b",
   "metadata": {},
   "outputs": [],
   "source": [
    "def transform_bbox(bbox=[148.464499, -34.394042, 148.474499, -34.384042], inputEPSG=\"EPSG:4326\", outputEPSG=\"EPSG:3857\"):\n",
    "    transformer = Transformer.from_crs(inputEPSG, outputEPSG)\n",
    "    x1,y1 = transformer.transform(bbox[1], bbox[0])\n",
    "    x2,y2 = transformer.transform(bbox[3], bbox[2])\n",
    "    return (x1, y1, x2, y2)"
   ]
  },
  {
   "cell_type": "code",
   "execution_count": 7,
   "id": "9535eff4-ae1e-45c9-803b-81ea59e3e5f7",
   "metadata": {},
   "outputs": [
    {
     "name": "stdout",
     "output_type": "stream",
     "text": [
      "Downloaded output.tif\n"
     ]
    }
   ],
   "source": [
    "def run_gdalwarp(bbox=[148.464499, -34.394042, 148.474499, -34.3840426], filename=\"output.tif\"):\n",
    "    \"\"\"Use gdalwarp to download a tif from terrain tiles\"\"\"\n",
    "\n",
    "    if os.path.exists(filename):\n",
    "        os.remove(filename)\n",
    "    \n",
    "    xml=\"DAESIM_preprocess/terrain_tiles.xml\"\n",
    "        \n",
    "    bbox_3857 = transform_bbox(bbox)\n",
    "    min_x, min_y, max_x, max_y = bbox_3857\n",
    "    command = [\n",
    "        \"gdalwarp\",\n",
    "        \"-of\", \"GTiff\",\n",
    "        \"-te\", str(min_x), str(min_y), str(max_x), str(max_y),\n",
    "        xml, filename\n",
    "    ]\n",
    "    result = subprocess.run(command, capture_output=True, text=True)\n",
    "    # print(\"STDOUT:\", result.stdout, flush=True)\n",
    "    # print(\"STDERR:\", result.stderr, flush=True)\n",
    "    print(f\"Downloaded {filename}\")"
   ]
  },
  {
   "cell_type": "code",
   "execution_count": 8,
   "id": "5c82c57a-03b6-4ae1-87bb-68e91c71320b",
   "metadata": {},
   "outputs": [
    {
     "data": {
      "text/plain": [
       "(282, 233)"
      ]
     },
     "execution_count": 8,
     "metadata": {},
     "output_type": "execute_result"
    }
   ],
   "source": [
    "def interpolate_nan(filename=\"output.tif\"):\n",
    "    \"\"\"Fix bad measurements in terrain tiles dem\"\"\"\n",
    "\n",
    "    # Load the tiff into a numpy array rasterio\n",
    "    with rasterio.open(filename) as dataset:\n",
    "        dem = dataset.read(1) \n",
    "        meta = dataset.meta.copy()\n",
    "    \n",
    "    # There are some clearly bad measurements in terrain tiles and this attempts to assign them np.nan.\n",
    "    threshold = 10\n",
    "    heights = sorted(set(dem.flatten()))\n",
    "    lowest_correct_height = min(heights)\n",
    "    for i in range(len(heights)//2, -1, -1):\n",
    "        if heights[i + 1] - heights[i] > threshold:\n",
    "            lowest_correct_height = heights[i + 1] \n",
    "            break\n",
    "    Z = np.where(dem < lowest_correct_height, np.nan, dem)\n",
    "    \n",
    "    # Extract into lists for interpolating\n",
    "    x_coords, y_coords = np.meshgrid(np.arange(Z.shape[1]), np.arange(Z.shape[0]))\n",
    "    x_flat = x_coords.flatten()\n",
    "    y_flat = y_coords.flatten()\n",
    "    z_flat = Z.flatten()\n",
    "    \n",
    "    # Remove NaN values before interpolating\n",
    "    mask = ~np.isnan(z_flat)\n",
    "    x_flat = x_flat[mask]\n",
    "    y_flat = y_flat[mask]\n",
    "    z_flat = z_flat[mask]\n",
    "    xy_coords = np.vstack((x_flat, y_flat), dtype=float).T\n",
    "    \n",
    "    # Replace bad/nan/missing values with the nearest neighbour\n",
    "    X, Y = np.meshgrid(np.linspace(0, Z.shape[1] - 1, Z.shape[1]),\n",
    "                np.linspace(0, Z.shape[0] - 1, Z.shape[0]))\n",
    "    nearest = griddata(xy_coords, z_flat, (X, Y), method='nearest')\n",
    "\n",
    "    return dem, meta"
   ]
  },
  {
   "cell_type": "code",
   "execution_count": 9,
   "id": "c49d6db3-9c87-47a3-8156-02c625c9aa89",
   "metadata": {},
   "outputs": [
    {
     "data": {
      "text/plain": [
       "(94, 78)"
      ]
     },
     "execution_count": 9,
     "metadata": {},
     "output_type": "execute_result"
    }
   ],
   "source": [
    "def downsample(dem):\n",
    "    \"\"\"Downsample from 10m dem to 30m dem\"\"\"\n",
    "    zoomed = zoom(dem, 1/3, order=0) \n",
    "    return zoomed"
   ]
  },
  {
   "cell_type": "code",
   "execution_count": 10,
   "id": "13e12d9a-33db-4274-9df2-31df46443dfb",
   "metadata": {},
   "outputs": [
    {
     "name": "stdout",
     "output_type": "stream",
     "text": [
      "Saved terrain_tiles.tif\n"
     ]
    }
   ],
   "source": [
    "def download_dem(dem, meta, filename=\"terrain_tiles.tif\"):\n",
    "    meta.update({\n",
    "        \"driver\": \"GTiff\",\n",
    "        \"height\": dem.shape[0],\n",
    "        \"width\": dem.shape[1],\n",
    "        \"count\": 1,  # Number of bands\n",
    "        \"dtype\": dem.dtype\n",
    "    })\n",
    "    with rasterio.open(filename, 'w', **meta) as dst:\n",
    "        dst.write(dem, 1)\n",
    "    print(f\"Saved {filename}\")"
   ]
  },
  {
   "cell_type": "code",
   "execution_count": 26,
   "id": "fe05bbfa-a2cd-4bae-a8c1-87ddb3d5d2c2",
   "metadata": {},
   "outputs": [],
   "source": [
    "def visualise_tif(filename=\"terrain_tiles.tif\", title=\"Terrain Tiles\"):\n",
    "    ds = rxr.open_rasterio(filename)\n",
    "    band = ds.sel(band=1)\n",
    "    band.plot()\n",
    "    plt.title(title)\n",
    "    plt.show()"
   ]
  },
  {
   "cell_type": "code",
   "execution_count": 28,
   "id": "49b6651f-5179-42b9-a45e-9bb7e93f58e5",
   "metadata": {},
   "outputs": [],
   "source": [
    "def terrain_tiles(lat=-34.3890427, lon=148.469499, buffer=0.005, outdir=\"\", tmp_dir=\"\", stub=\"test\"):\n",
    "    \"\"\"Download 10m resolution elevation from terrain_tiles\"\"\"\n",
    "    \n",
    "    # Load the raw data\n",
    "    bbox = create_bbox(lat, lon, buffer)\n",
    "    filename = os.path.join(tmp_dir, f\"{stub}_terrain_original.tif\")\n",
    "    run_gdalwarp(bbox, filename)\n",
    "\n",
    "    # Fix bad measurements\n",
    "    dem, meta = interpolate_nan(filename)        \n",
    "    filename = os.path.join(outdir, f\"{stub}_terrain_cleaned.tif\")\n",
    "    download_dem(dem, meta, filename)"
   ]
  },
  {
   "cell_type": "code",
   "execution_count": 27,
   "id": "8025daf6-8bb3-4c94-9406-ed9f9626663f",
   "metadata": {},
   "outputs": [
    {
     "ename": "TypeError",
     "evalue": "terrain_tiles() takes from 0 to 5 positional arguments but 6 were given",
     "output_type": "error",
     "traceback": [
      "\u001b[0;31m---------------------------------------------------------------------------\u001b[0m",
      "\u001b[0;31mTypeError\u001b[0m                                 Traceback (most recent call last)",
      "Cell \u001b[0;32mIn[27], line 12\u001b[0m\n\u001b[1;32m      9\u001b[0m tmp_dir \u001b[38;5;241m=\u001b[39m os\u001b[38;5;241m.\u001b[39mpath\u001b[38;5;241m.\u001b[39mjoin(scratch_dir, \u001b[38;5;124m\"\u001b[39m\u001b[38;5;124mtmp\u001b[39m\u001b[38;5;124m\"\u001b[39m)\n\u001b[1;32m     11\u001b[0m \u001b[38;5;66;03m# Download elevation from terrain tiles\u001b[39;00m\n\u001b[0;32m---> 12\u001b[0m \u001b[43mterrain_tiles\u001b[49m\u001b[43m(\u001b[49m\u001b[43mlat\u001b[49m\u001b[43m,\u001b[49m\u001b[43m \u001b[49m\u001b[43mlon\u001b[49m\u001b[43m,\u001b[49m\u001b[43m \u001b[49m\u001b[43mbuffer\u001b[49m\u001b[43m,\u001b[49m\u001b[43m \u001b[49m\u001b[43moutdir\u001b[49m\u001b[43m,\u001b[49m\u001b[43m \u001b[49m\u001b[43mtmp_dir\u001b[49m\u001b[43m,\u001b[49m\u001b[43m \u001b[49m\u001b[43mstub\u001b[49m\u001b[43m)\u001b[49m\n\u001b[1;32m     14\u001b[0m \u001b[38;5;66;03m# Visualise the downloaded data\u001b[39;00m\n\u001b[1;32m     15\u001b[0m filename \u001b[38;5;241m=\u001b[39m os\u001b[38;5;241m.\u001b[39mpath\u001b[38;5;241m.\u001b[39mjoin(outdir, \u001b[38;5;124mf\u001b[39m\u001b[38;5;124m\"\u001b[39m\u001b[38;5;132;01m{\u001b[39;00mstub\u001b[38;5;132;01m}\u001b[39;00m\u001b[38;5;124m_terrain_cleaned.tif\u001b[39m\u001b[38;5;124m\"\u001b[39m)\n",
      "\u001b[0;31mTypeError\u001b[0m: terrain_tiles() takes from 0 to 5 positional arguments but 6 were given"
     ]
    }
   ],
   "source": [
    "if __name__ == '__main__':\n",
    "    # Choosing location\n",
    "    lat, lon = -34.3890427, 148.469499\n",
    "    buffer = 0.005  # 0.01 degrees is about 1km in each direction, so 2km total\n",
    "    stub = \"MILG_1km\"\n",
    "\n",
    "    # Specify output destinations\n",
    "    outdir = os.path.join(gdata_dir, \"Data/PadSeg/\")\n",
    "    tmp_dir = os.path.join(scratch_dir, \"tmp\")\n",
    "\n",
    "    # Download elevation from terrain tiles\n",
    "    terrain_tiles(lat, lon, buffer, outdir, tmp_dir, stub)\n",
    "\n",
    "    # Visualise the downloaded data\n",
    "    filename = os.path.join(outdir, f\"{stub}_terrain_cleaned.tif\")\n",
    "    visualise_tif(filename, \"Terrain Tiles\")"
   ]
  }
 ],
 "metadata": {
  "kernelspec": {
   "display_name": "Python 3 (ipykernel)",
   "language": "python",
   "name": "python3"
  },
  "language_info": {
   "codemirror_mode": {
    "name": "ipython",
    "version": 3
   },
   "file_extension": ".py",
   "mimetype": "text/x-python",
   "name": "python",
   "nbconvert_exporter": "python",
   "pygments_lexer": "ipython3",
   "version": "3.11.7"
  }
 },
 "nbformat": 4,
 "nbformat_minor": 5
}
