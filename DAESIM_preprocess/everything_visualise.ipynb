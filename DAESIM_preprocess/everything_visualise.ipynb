{
 "cells": [
  {
   "cell_type": "code",
   "execution_count": null,
   "id": "925764e9-0e34-469e-9956-b1dfd4bbb126",
   "metadata": {},
   "outputs": [],
   "source": [
    "# Standard library\n",
    "import os\n",
    "\n",
    "# Local imports\n",
    "os.chdir(os.path.join(os.path.expanduser('~'), \"Projects/PaddockTS\"))\n",
    "from DAESIM_preprocess.util import gdata_dir, scratch_dir, visualise_tif_rioxarray, plot_time_series, plot_time_point\n",
    "from DAESIM_preprocess.topography import show_acc, show_aspect, show_slope, show_ridge_gullies"
   ]
  },
  {
   "cell_type": "code",
   "execution_count": null,
   "id": "0fdce273-974c-4f4f-9092-ec4a11903d16",
   "metadata": {},
   "outputs": [],
   "source": [
    "# Filepaths"
   ]
  },
  {
   "cell_type": "code",
   "execution_count": null,
   "id": "7668cb9b-1d31-478a-abe7-a76c607b7b8f",
   "metadata": {},
   "outputs": [],
   "source": [
    "# Visualise elevation\n",
    "visualise_tif_rioxarray('/g/data/xe2/cb8590/Data/PadSeg/MILG_6km_terrain_cleaned.tif', \"Elevation\")"
   ]
  },
  {
   "cell_type": "code",
   "execution_count": null,
   "id": "d6527cd8-dc03-4777-8f15-562c3438da6c",
   "metadata": {},
   "outputs": [],
   "source": [
    "# Visualise soils\n",
    "visualise_tif_rioxarray(\"/g/data/xe2/cb8590/Data/PadSeg/MILG_6km_Clay.tif\", \"Clay\")"
   ]
  },
  {
   "cell_type": "code",
   "execution_count": null,
   "id": "1348cb16-b4e4-4c41-a1f8-07b8fe844c5c",
   "metadata": {},
   "outputs": [],
   "source": [
    "# Visualise climate\n",
    "visualise_tif_rioxarray(\"/g/data/xe2/cb8590/Data/PadSeg/MILG_6km_Maximum_Temperature_2020_2021_average.tif\", \"Average Maximum Temperature\")"
   ]
  },
  {
   "cell_type": "code",
   "execution_count": null,
   "id": "6d23dfbe-3cce-4366-ab20-deefd48bd96e",
   "metadata": {},
   "outputs": [],
   "source": [
    "# Visualise weather time series\n",
    "plot_time_series(ds, \"Ssoil\", lat, lon)"
   ]
  },
  {
   "cell_type": "code",
   "execution_count": null,
   "id": "ffde42bd-030e-4629-b8eb-1ee172602aa1",
   "metadata": {},
   "outputs": [],
   "source": [
    "# Visualise weather map\n",
    "plot_time_point(ds, \"Ssoil\", \"2020-03-10\")"
   ]
  },
  {
   "cell_type": "code",
   "execution_count": null,
   "id": "300f4c5f-335f-420f-8680-6e328f7a03e7",
   "metadata": {},
   "outputs": [],
   "source": [
    "# Visualise topographic index\n",
    "filepath = \"/g/data/xe2/cb8590/Data/PadSeg/MILG_6km_terrain_cleaned.tif\"\n",
    "grid, dem, fdir, acc = pysheds_accumulation(filepath)\n",
    "show_acc(acc)  # Should export this to a tiff file"
   ]
  },
  {
   "cell_type": "code",
   "execution_count": null,
   "id": "9895e829-0f25-4bbf-80dc-f5c10c00819c",
   "metadata": {},
   "outputs": [],
   "source": [
    "# Visualise aspect\n",
    "show_aspect(fdir)  # Should export this to a tiff file"
   ]
  },
  {
   "cell_type": "code",
   "execution_count": null,
   "id": "741eaa72-3d4e-4b7d-9494-d0fb325618c0",
   "metadata": {},
   "outputs": [],
   "source": [
    "# Visualise ridges and gullies\n",
    "num_catchments = 10\n",
    "gullies, full_branches = catchment_gullies(grid, fdir, acc, num_catchments)\n",
    "ridges = catchment_ridges(grid, fdir, acc, full_branches)\n",
    "show_ridge_gullies(dem, ridges, gullies)"
   ]
  },
  {
   "cell_type": "code",
   "execution_count": null,
   "id": "74d38bcc-c4fe-4dbf-a52f-8dc326a02c62",
   "metadata": {},
   "outputs": [],
   "source": [
    "# Visualise slope\n",
    "slope = calculate_slope(filepath) # Should export this to a tiff file\n",
    "show_slope(slope)  # Should generalise this function (\"show_discrete_variable\", and \"show_continuous_variable\")"
   ]
  }
 ],
 "metadata": {
  "kernelspec": {
   "display_name": "Python 3 (ipykernel)",
   "language": "python",
   "name": "python3"
  },
  "language_info": {
   "codemirror_mode": {
    "name": "ipython",
    "version": 3
   },
   "file_extension": ".py",
   "mimetype": "text/x-python",
   "name": "python",
   "nbconvert_exporter": "python",
   "pygments_lexer": "ipython3",
   "version": "3.10.8"
  }
 },
 "nbformat": 4,
 "nbformat_minor": 5
}
