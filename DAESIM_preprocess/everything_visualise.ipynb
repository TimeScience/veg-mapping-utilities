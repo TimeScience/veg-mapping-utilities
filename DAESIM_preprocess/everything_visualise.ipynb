{
 "cells": [
  {
   "cell_type": "code",
   "execution_count": null,
   "id": "925764e9-0e34-469e-9956-b1dfd4bbb126",
   "metadata": {},
   "outputs": [],
   "source": [
    "# Module: python3/3.11.7 \n",
    "# Environment base: /g/data/xe2/datasets/Environments/paddockenv3_11\n",
    "# Not using geospatenv because it doesn't have pysheds installed"
   ]
  },
  {
   "cell_type": "code",
   "execution_count": 1,
   "id": "37890017-dab1-4630-9984-dae9f96bc6f5",
   "metadata": {},
   "outputs": [],
   "source": [
    "# Standard library\n",
    "import os\n",
    "import pickle\n",
    "\n",
    "# Dependencies\n",
    "import numpy as np\n",
    "import xarray as xr\n",
    "import rioxarray as rxr\n",
    "import matplotlib.pyplot as plt\n",
    "from dea_tools.plotting import rgb\n",
    "\n",
    "# Local imports\n",
    "os.chdir(os.path.join(os.path.expanduser('~'), \"Projects/PaddockTS\"))\n",
    "from DAESIM_preprocess.util import gdata_dir, scratch_dir, visualise_tif_rioxarray, plot_time_series, plot_time_point\n",
    "from DAESIM_preprocess.topography import show_acc, show_aspect, show_slope, show_ridge_gullies, pysheds_accumulation, catchment_gullies, catchment_ridges, calculate_slope\n",
    "from DAESIM_preprocess.canopy_height import visualise_canopy_height\n",
    "from DAESIM_preprocess.sentinel import available_imagery_sentinel, calendar_plot_sentinel, time_lapse"
   ]
  },
  {
   "cell_type": "code",
   "execution_count": 5,
   "id": "41fa2c5d-f765-4956-8022-df1591b8acaf",
   "metadata": {},
   "outputs": [],
   "source": [
    "# Filepaths\n",
    "outdir = os.path.join(gdata_dir, \"Data/PadSeg/\")\n",
    "visuals_dir = os.path.join(scratch_dir, \"Visuals\")\n",
    "stub = \"MULL\""
   ]
  },
  {
   "cell_type": "code",
   "execution_count": 10,
   "id": "9621c004-17e3-4550-8067-2f3de7a766fb",
   "metadata": {},
   "outputs": [
    {
     "name": "stdout",
     "output_type": "stream",
     "text": [
      "CPU times: user 25.1 s, sys: 354 ms, total: 25.5 s\n",
      "Wall time: 22.7 s\n"
     ]
    }
   ],
   "source": [
    "%%time\n",
    "# Calculate the terrain data\n",
    "filename = os.path.join(outdir, f\"{stub}_terrain.tif\")\n",
    "grid, dem, fdir, acc = pysheds_accumulation(filename)\n",
    "num_catchments = 20\n",
    "gullies, full_branches = catchment_gullies(grid, fdir, acc, num_catchments)\n",
    "ridges = catchment_ridges(grid, fdir, acc, full_branches)\n",
    "slope = calculate_slope(filename)"
   ]
  },
  {
   "cell_type": "code",
   "execution_count": 4,
   "id": "c2da3183-a428-41b7-b876-ba8f0ba1b86a",
   "metadata": {},
   "outputs": [],
   "source": [
    "# # Paddock boundaries\n",
    "# filename = os.path.join(outdir, f\"{stub}_segment.tif\")\n",
    "# ds = rxr.open_rasterio(filename)\n",
    "# ds.plot()\n",
    "\n",
    "# False colour NDWI fourier transform\n",
    "# filename = os.path.join(outdir, f\"{stub}.tif\")\n",
    "# ds = rxr.open_rasterio(filename)\n",
    "# rgb_array = ds.transpose('y', 'x', 'band') / 255.0\n",
    "# plt.imshow(rgb_array)\n",
    "\n",
    "# NDVI calendar plot and paddock heatmap\n",
    "# Fractional cover calendar plot and paddock heatmap\n",
    "# Property boundaries"
   ]
  },
  {
   "cell_type": "code",
   "execution_count": null,
   "id": "b19b6b21-4324-424b-bfd1-67ea86399152",
   "metadata": {},
   "outputs": [],
   "source": [
    "%%time\n",
    "# Topography\n",
    "show_ridge_gullies(dem, ridges, gullies)\n",
    "\n",
    "# Accumulation\n",
    "show_acc(acc)\n",
    "\n",
    "# Aspect\n",
    "show_aspect(fdir)\n",
    "\n",
    "# Slope\n",
    "show_slope(slope) \n",
    "\n",
    "# Canopy Height\n",
    "filename = os.path.join(outdir, f\"{stub}_canopy_height.tif\")\n",
    "visualise_canopy_height(filename)"
   ]
  },
  {
   "cell_type": "code",
   "execution_count": null,
   "id": "7ed458af-e0eb-4ea3-8737-36c07d906383",
   "metadata": {},
   "outputs": [],
   "source": [
    "# Load the sentinel imagery\n",
    "filename = os.path.join(outdir, f\"{stub}_ds2.pkl\")\n",
    "with open(filename, 'rb') as file:\n",
    "    ds = pickle.load(file)"
   ]
  },
  {
   "cell_type": "code",
   "execution_count": 3,
   "id": "da7b01a2-5344-490a-9127-a88366d69cbc",
   "metadata": {},
   "outputs": [],
   "source": [
    "# Available imagery\n",
    "available_imagery_sentinel(ds)\n",
    "\n",
    "# Calendar plot thumbnail\n",
    "calendar_plot_sentinel(ds)\n",
    "\n",
    "# Calendar plot detailed\n",
    "calendar_plot_sentinel(ds, size=5)\n",
    "\n",
    "# Video\n",
    "time_lapse(ds)"
   ]
  },
  {
   "cell_type": "code",
   "execution_count": 9,
   "id": "147598f2-a318-43ae-bf86-e7ebb3bb07a9",
   "metadata": {},
   "outputs": [],
   "source": [
    "# Climate\n",
    "filename = os.path.join(outdir, f\"{stub}_ozwald_8day.nc\")\n",
    "ds_ozwald = xr.open_dataset(filename)\n",
    "\n",
    "filename = os.path.join(outdir, f\"{stub}_silo_daily.nc\")\n",
    "ds_silo = xr.open_dataset(filename)"
   ]
  },
  {
   "cell_type": "code",
   "execution_count": null,
   "id": "02c79e5c-82c9-404a-ac12-3cf1120e781f",
   "metadata": {},
   "outputs": [],
   "source": [
    "# Soils"
   ]
  }
 ],
 "metadata": {
  "kernelspec": {
   "display_name": "Python 3 (ipykernel)",
   "language": "python",
   "name": "python3"
  },
  "language_info": {
   "codemirror_mode": {
    "name": "ipython",
    "version": 3
   },
   "file_extension": ".py",
   "mimetype": "text/x-python",
   "name": "python",
   "nbconvert_exporter": "python",
   "pygments_lexer": "ipython3",
   "version": "3.11.7"
  }
 },
 "nbformat": 4,
 "nbformat_minor": 5
}
